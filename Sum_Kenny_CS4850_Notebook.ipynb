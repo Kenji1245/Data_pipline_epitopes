{
 "cells": [
  {
   "cell_type": "markdown",
   "id": "e3a9c405-4287-43b8-b9e8-90f6dadab0bc",
   "metadata": {},
   "source": [
    "# Kenny Kei Yun Sum\n"
   ]
  },
  {
   "cell_type": "code",
   "execution_count": null,
   "id": "cfac0d0d-e934-40df-9f4d-7e1a9c2d3496",
   "metadata": {},
   "outputs": [],
   "source": [
    "import pandas as pd\n",
    "import numpy as np\n",
    "\n",
    "# reads the csv file.\n",
    "df = pd.read_csv(r\"C:\\Users\\kegge\\OneDrive\\Desktop\\CS-Course\\DataMining\\coursework/df_reduced.csv\",sep=\";\")"
   ]
  },
  {
   "cell_type": "markdown",
   "id": "4c3a254b-c05f-4614-b91f-0e3afeffaab3",
   "metadata": {},
   "source": [
    "# Data exploratory Analysis"
   ]
  },
  {
   "cell_type": "code",
   "execution_count": 214,
   "id": "b24d1da6-97af-4e74-b4fd-e90fe5a0a079",
   "metadata": {},
   "outputs": [
    {
     "data": {
      "text/plain": [
       "(12402, 300)"
      ]
     },
     "execution_count": 214,
     "metadata": {},
     "output_type": "execute_result"
    }
   ],
   "source": [
    "# shows number of rows and columns\n",
    "df.shape"
   ]
  },
  {
   "cell_type": "code",
   "execution_count": 216,
   "id": "3fe96083-1d78-4ca2-a296-b14fbe3c6dcb",
   "metadata": {},
   "outputs": [
    {
     "name": "stdout",
     "output_type": "stream",
     "text": [
      "Class\n",
      "-1    12216\n",
      " 1      186\n",
      "Name: count, dtype: int64\n"
     ]
    }
   ],
   "source": [
    "# Check the class distribution\n",
    "print(df['Class'].value_counts())"
   ]
  },
  {
   "cell_type": "code",
   "execution_count": 218,
   "id": "035a11e1-1fd2-4269-a673-eb64f9200179",
   "metadata": {},
   "outputs": [
    {
     "data": {
      "image/png": "[encoded data removed]",
      "text/plain": [
       "<Figure size 800x600 with 1 Axes>"
      ]
     },
     "metadata": {},
     "output_type": "display_data"
    }
   ],
   "source": [
    "import matplotlib.pyplot as plt\n",
    "\n",
    "# Plot the class distribution for the target variable 'Survived'\n",
    "plt.figure(figsize=(8, 6))\n",
    "df['Class'].value_counts().plot(kind='bar', color=['blue', 'orange'])\n",
    "plt.title('Class Distribution of the Target Variable')\n",
    "plt.xlabel('Class')\n",
    "plt.ylabel('Frequency')\n",
    "plt.show()"
   ]
  },
  {
   "cell_type": "code",
   "execution_count": 220,
   "id": "d78aba47-eb9b-449a-8334-a3df3f7eab40",
   "metadata": {},
   "outputs": [
    {
     "data": {
      "text/html": [
       "<div>\n",
       "<style scoped>\n",
       "    .dataframe tbody tr th:only-of-type {\n",
       "        vertical-align: middle;\n",
       "    }\n",
       "\n",
       "    .dataframe tbody tr th {\n",
       "        vertical-align: top;\n",
       "    }\n",
       "\n",
       "    .dataframe thead th {\n",
       "        text-align: right;\n",
       "    }\n",
       "</style>\n",
       "<table border=\"1\" class=\"dataframe\">\n",
       "  <thead>\n",
       "    <tr style=\"text-align: right;\">\n",
       "      <th></th>\n",
       "      <th>Info_PepID</th>\n",
       "      <th>Info_organism_id</th>\n",
       "      <th>Info_protein_id</th>\n",
       "      <th>Info_pos</th>\n",
       "      <th>Info_AA</th>\n",
       "      <th>Info_epitope_id</th>\n",
       "      <th>Info_nPos</th>\n",
       "      <th>Info_nNeg</th>\n",
       "      <th>Info_cluster</th>\n",
       "      <th>Class</th>\n",
       "      <th>...</th>\n",
       "      <th>feat_esm1b_280</th>\n",
       "      <th>feat_esm1b_281</th>\n",
       "      <th>feat_esm1b_282</th>\n",
       "      <th>feat_esm1b_283</th>\n",
       "      <th>feat_esm1b_284</th>\n",
       "      <th>feat_esm1b_285</th>\n",
       "      <th>feat_esm1b_286</th>\n",
       "      <th>feat_esm1b_287</th>\n",
       "      <th>feat_esm1b_288</th>\n",
       "      <th>feat_esm1b_289</th>\n",
       "    </tr>\n",
       "  </thead>\n",
       "  <tbody>\n",
       "    <tr>\n",
       "      <th>0</th>\n",
       "      <td>XP_815234.1:14</td>\n",
       "      <td>5693</td>\n",
       "      <td>XP_815234.1</td>\n",
       "      <td>283</td>\n",
       "      <td>S</td>\n",
       "      <td>406709</td>\n",
       "      <td>0</td>\n",
       "      <td>1</td>\n",
       "      <td>188</td>\n",
       "      <td>-1</td>\n",
       "      <td>...</td>\n",
       "      <td>0.416813</td>\n",
       "      <td>-0.143011</td>\n",
       "      <td>0.022861</td>\n",
       "      <td>-0.317150</td>\n",
       "      <td>0.231682</td>\n",
       "      <td>0.185963</td>\n",
       "      <td>-0.161442</td>\n",
       "      <td>-0.104047</td>\n",
       "      <td>0.207374</td>\n",
       "      <td>0.247171</td>\n",
       "    </tr>\n",
       "    <tr>\n",
       "      <th>1</th>\n",
       "      <td>XP_811525.1:1</td>\n",
       "      <td>5693</td>\n",
       "      <td>XP_811525.1</td>\n",
       "      <td>9</td>\n",
       "      <td>L</td>\n",
       "      <td>339305</td>\n",
       "      <td>0</td>\n",
       "      <td>1</td>\n",
       "      <td>32</td>\n",
       "      <td>-1</td>\n",
       "      <td>...</td>\n",
       "      <td>-0.322140</td>\n",
       "      <td>0.269885</td>\n",
       "      <td>-0.102179</td>\n",
       "      <td>0.325600</td>\n",
       "      <td>-0.145979</td>\n",
       "      <td>-0.010875</td>\n",
       "      <td>0.004623</td>\n",
       "      <td>-0.125649</td>\n",
       "      <td>-0.124625</td>\n",
       "      <td>-0.625465</td>\n",
       "    </tr>\n",
       "    <tr>\n",
       "      <th>2</th>\n",
       "      <td>XP_819902.1:4</td>\n",
       "      <td>5693</td>\n",
       "      <td>XP_819902.1</td>\n",
       "      <td>96</td>\n",
       "      <td>G</td>\n",
       "      <td>295341</td>\n",
       "      <td>0</td>\n",
       "      <td>1</td>\n",
       "      <td>64</td>\n",
       "      <td>-1</td>\n",
       "      <td>...</td>\n",
       "      <td>0.267216</td>\n",
       "      <td>-0.120633</td>\n",
       "      <td>-0.012753</td>\n",
       "      <td>-0.533533</td>\n",
       "      <td>-0.077836</td>\n",
       "      <td>-0.115498</td>\n",
       "      <td>-0.234221</td>\n",
       "      <td>-0.578971</td>\n",
       "      <td>-0.195853</td>\n",
       "      <td>0.008974</td>\n",
       "    </tr>\n",
       "    <tr>\n",
       "      <th>3</th>\n",
       "      <td>XP_808204.1:14</td>\n",
       "      <td>5693</td>\n",
       "      <td>XP_808204.1</td>\n",
       "      <td>282</td>\n",
       "      <td>Y</td>\n",
       "      <td>315639</td>\n",
       "      <td>0</td>\n",
       "      <td>1</td>\n",
       "      <td>102</td>\n",
       "      <td>-1</td>\n",
       "      <td>...</td>\n",
       "      <td>-0.162871</td>\n",
       "      <td>0.244862</td>\n",
       "      <td>-0.060719</td>\n",
       "      <td>0.237254</td>\n",
       "      <td>-0.015220</td>\n",
       "      <td>0.459895</td>\n",
       "      <td>-0.082559</td>\n",
       "      <td>-0.041386</td>\n",
       "      <td>-0.011011</td>\n",
       "      <td>-0.045873</td>\n",
       "    </tr>\n",
       "    <tr>\n",
       "      <th>4</th>\n",
       "      <td>XP_820015.1:10</td>\n",
       "      <td>5693</td>\n",
       "      <td>XP_820015.1</td>\n",
       "      <td>242</td>\n",
       "      <td>A</td>\n",
       "      <td>244573,390576</td>\n",
       "      <td>0,0</td>\n",
       "      <td>1,1</td>\n",
       "      <td>211</td>\n",
       "      <td>-1</td>\n",
       "      <td>...</td>\n",
       "      <td>0.294608</td>\n",
       "      <td>0.092545</td>\n",
       "      <td>-0.244902</td>\n",
       "      <td>-0.222112</td>\n",
       "      <td>-0.148792</td>\n",
       "      <td>0.061015</td>\n",
       "      <td>0.061460</td>\n",
       "      <td>-0.151051</td>\n",
       "      <td>-0.208596</td>\n",
       "      <td>0.079564</td>\n",
       "    </tr>\n",
       "  </tbody>\n",
       "</table>\n",
       "<p>5 rows × 300 columns</p>\n",
       "</div>"
      ],
      "text/plain": [
       "       Info_PepID  Info_organism_id Info_protein_id  Info_pos Info_AA  \\\n",
       "0  XP_815234.1:14              5693     XP_815234.1       283       S   \n",
       "1   XP_811525.1:1              5693     XP_811525.1         9       L   \n",
       "2   XP_819902.1:4              5693     XP_819902.1        96       G   \n",
       "3  XP_808204.1:14              5693     XP_808204.1       282       Y   \n",
       "4  XP_820015.1:10              5693     XP_820015.1       242       A   \n",
       "\n",
       "  Info_epitope_id Info_nPos Info_nNeg  Info_cluster  Class  ...  \\\n",
       "0          406709         0         1           188     -1  ...   \n",
       "1          339305         0         1            32     -1  ...   \n",
       "2          295341         0         1            64     -1  ...   \n",
       "3          315639         0         1           102     -1  ...   \n",
       "4   244573,390576       0,0       1,1           211     -1  ...   \n",
       "\n",
       "   feat_esm1b_280  feat_esm1b_281  feat_esm1b_282  feat_esm1b_283  \\\n",
       "0        0.416813       -0.143011        0.022861       -0.317150   \n",
       "1       -0.322140        0.269885       -0.102179        0.325600   \n",
       "2        0.267216       -0.120633       -0.012753       -0.533533   \n",
       "3       -0.162871        0.244862       -0.060719        0.237254   \n",
       "4        0.294608        0.092545       -0.244902       -0.222112   \n",
       "\n",
       "   feat_esm1b_284  feat_esm1b_285  feat_esm1b_286  feat_esm1b_287  \\\n",
       "0        0.231682        0.185963       -0.161442       -0.104047   \n",
       "1       -0.145979       -0.010875        0.004623       -0.125649   \n",
       "2       -0.077836       -0.115498       -0.234221       -0.578971   \n",
       "3       -0.015220        0.459895       -0.082559       -0.041386   \n",
       "4       -0.148792        0.061015        0.061460       -0.151051   \n",
       "\n",
       "   feat_esm1b_288  feat_esm1b_289  \n",
       "0        0.207374        0.247171  \n",
       "1       -0.124625       -0.625465  \n",
       "2       -0.195853        0.008974  \n",
       "3       -0.011011       -0.045873  \n",
       "4       -0.208596        0.079564  \n",
       "\n",
       "[5 rows x 300 columns]"
      ]
     },
     "execution_count": 220,
     "metadata": {},
     "output_type": "execute_result"
    }
   ],
   "source": [
    "# displays top five row\n",
    "df.head(5)"
   ]
  },
  {
   "cell_type": "code",
   "execution_count": 222,
   "id": "de0cbe05-a01f-4ceb-9212-2429ee719599",
   "metadata": {},
   "outputs": [
    {
     "data": {
      "text/html": [
       "<div>\n",
       "<style scoped>\n",
       "    .dataframe tbody tr th:only-of-type {\n",
       "        vertical-align: middle;\n",
       "    }\n",
       "\n",
       "    .dataframe tbody tr th {\n",
       "        vertical-align: top;\n",
       "    }\n",
       "\n",
       "    .dataframe thead th {\n",
       "        text-align: right;\n",
       "    }\n",
       "</style>\n",
       "<table border=\"1\" class=\"dataframe\">\n",
       "  <thead>\n",
       "    <tr style=\"text-align: right;\">\n",
       "      <th></th>\n",
       "      <th>Info_PepID</th>\n",
       "      <th>Info_organism_id</th>\n",
       "      <th>Info_protein_id</th>\n",
       "      <th>Info_pos</th>\n",
       "      <th>Info_AA</th>\n",
       "      <th>Info_epitope_id</th>\n",
       "      <th>Info_nPos</th>\n",
       "      <th>Info_nNeg</th>\n",
       "      <th>Info_cluster</th>\n",
       "      <th>Class</th>\n",
       "      <th>...</th>\n",
       "      <th>feat_esm1b_280</th>\n",
       "      <th>feat_esm1b_281</th>\n",
       "      <th>feat_esm1b_282</th>\n",
       "      <th>feat_esm1b_283</th>\n",
       "      <th>feat_esm1b_284</th>\n",
       "      <th>feat_esm1b_285</th>\n",
       "      <th>feat_esm1b_286</th>\n",
       "      <th>feat_esm1b_287</th>\n",
       "      <th>feat_esm1b_288</th>\n",
       "      <th>feat_esm1b_289</th>\n",
       "    </tr>\n",
       "  </thead>\n",
       "  <tbody>\n",
       "    <tr>\n",
       "      <th>12397</th>\n",
       "      <td>XP_805059.1:20</td>\n",
       "      <td>5693</td>\n",
       "      <td>XP_805059.1</td>\n",
       "      <td>357</td>\n",
       "      <td>P</td>\n",
       "      <td>316771</td>\n",
       "      <td>0</td>\n",
       "      <td>1</td>\n",
       "      <td>46</td>\n",
       "      <td>-1</td>\n",
       "      <td>...</td>\n",
       "      <td>0.010504</td>\n",
       "      <td>0.231793</td>\n",
       "      <td>-0.049883</td>\n",
       "      <td>0.260013</td>\n",
       "      <td>0.066875</td>\n",
       "      <td>-0.362300</td>\n",
       "      <td>-0.468976</td>\n",
       "      <td>0.135828</td>\n",
       "      <td>-0.016245</td>\n",
       "      <td>0.365967</td>\n",
       "    </tr>\n",
       "    <tr>\n",
       "      <th>12398</th>\n",
       "      <td>XP_804612.1:6</td>\n",
       "      <td>5693</td>\n",
       "      <td>XP_804612.1</td>\n",
       "      <td>354</td>\n",
       "      <td>E</td>\n",
       "      <td>408859</td>\n",
       "      <td>0</td>\n",
       "      <td>1</td>\n",
       "      <td>36</td>\n",
       "      <td>-1</td>\n",
       "      <td>...</td>\n",
       "      <td>0.378880</td>\n",
       "      <td>0.233636</td>\n",
       "      <td>-0.018080</td>\n",
       "      <td>-0.402595</td>\n",
       "      <td>0.277612</td>\n",
       "      <td>-0.098770</td>\n",
       "      <td>-0.243120</td>\n",
       "      <td>-0.286025</td>\n",
       "      <td>-0.277661</td>\n",
       "      <td>-0.145548</td>\n",
       "    </tr>\n",
       "    <tr>\n",
       "      <th>12399</th>\n",
       "      <td>XP_812323.1:52</td>\n",
       "      <td>5693</td>\n",
       "      <td>XP_812323.1</td>\n",
       "      <td>1331</td>\n",
       "      <td>A</td>\n",
       "      <td>343635</td>\n",
       "      <td>0</td>\n",
       "      <td>1</td>\n",
       "      <td>160</td>\n",
       "      <td>-1</td>\n",
       "      <td>...</td>\n",
       "      <td>0.022624</td>\n",
       "      <td>0.134560</td>\n",
       "      <td>-0.113434</td>\n",
       "      <td>-0.266736</td>\n",
       "      <td>0.150910</td>\n",
       "      <td>0.415144</td>\n",
       "      <td>-0.289739</td>\n",
       "      <td>0.155924</td>\n",
       "      <td>-0.167771</td>\n",
       "      <td>0.236386</td>\n",
       "    </tr>\n",
       "    <tr>\n",
       "      <th>12400</th>\n",
       "      <td>XP_808278.1:18</td>\n",
       "      <td>5693</td>\n",
       "      <td>XP_808278.1</td>\n",
       "      <td>452</td>\n",
       "      <td>Q</td>\n",
       "      <td>413023,323930</td>\n",
       "      <td>0,0</td>\n",
       "      <td>1,1</td>\n",
       "      <td>103</td>\n",
       "      <td>-1</td>\n",
       "      <td>...</td>\n",
       "      <td>0.189327</td>\n",
       "      <td>0.099029</td>\n",
       "      <td>0.001823</td>\n",
       "      <td>0.276265</td>\n",
       "      <td>-0.282017</td>\n",
       "      <td>0.373733</td>\n",
       "      <td>0.002096</td>\n",
       "      <td>0.082542</td>\n",
       "      <td>0.168576</td>\n",
       "      <td>0.362109</td>\n",
       "    </tr>\n",
       "    <tr>\n",
       "      <th>12401</th>\n",
       "      <td>XP_819396.1:2</td>\n",
       "      <td>5693</td>\n",
       "      <td>XP_819396.1</td>\n",
       "      <td>66</td>\n",
       "      <td>S</td>\n",
       "      <td>332565</td>\n",
       "      <td>0</td>\n",
       "      <td>1</td>\n",
       "      <td>247</td>\n",
       "      <td>-1</td>\n",
       "      <td>...</td>\n",
       "      <td>0.113387</td>\n",
       "      <td>-0.123360</td>\n",
       "      <td>0.051917</td>\n",
       "      <td>-0.450575</td>\n",
       "      <td>0.276853</td>\n",
       "      <td>0.025367</td>\n",
       "      <td>-0.134704</td>\n",
       "      <td>-0.367695</td>\n",
       "      <td>-0.001120</td>\n",
       "      <td>0.209603</td>\n",
       "    </tr>\n",
       "  </tbody>\n",
       "</table>\n",
       "<p>5 rows × 300 columns</p>\n",
       "</div>"
      ],
      "text/plain": [
       "           Info_PepID  Info_organism_id Info_protein_id  Info_pos Info_AA  \\\n",
       "12397  XP_805059.1:20              5693     XP_805059.1       357       P   \n",
       "12398   XP_804612.1:6              5693     XP_804612.1       354       E   \n",
       "12399  XP_812323.1:52              5693     XP_812323.1      1331       A   \n",
       "12400  XP_808278.1:18              5693     XP_808278.1       452       Q   \n",
       "12401   XP_819396.1:2              5693     XP_819396.1        66       S   \n",
       "\n",
       "      Info_epitope_id Info_nPos Info_nNeg  Info_cluster  Class  ...  \\\n",
       "12397          316771         0         1            46     -1  ...   \n",
       "12398          408859         0         1            36     -1  ...   \n",
       "12399          343635         0         1           160     -1  ...   \n",
       "12400   413023,323930       0,0       1,1           103     -1  ...   \n",
       "12401          332565         0         1           247     -1  ...   \n",
       "\n",
       "       feat_esm1b_280  feat_esm1b_281  feat_esm1b_282  feat_esm1b_283  \\\n",
       "12397        0.010504        0.231793       -0.049883        0.260013   \n",
       "12398        0.378880        0.233636       -0.018080       -0.402595   \n",
       "12399        0.022624        0.134560       -0.113434       -0.266736   \n",
       "12400        0.189327        0.099029        0.001823        0.276265   \n",
       "12401        0.113387       -0.123360        0.051917       -0.450575   \n",
       "\n",
       "       feat_esm1b_284  feat_esm1b_285  feat_esm1b_286  feat_esm1b_287  \\\n",
       "12397        0.066875       -0.362300       -0.468976        0.135828   \n",
       "12398        0.277612       -0.098770       -0.243120       -0.286025   \n",
       "12399        0.150910        0.415144       -0.289739        0.155924   \n",
       "12400       -0.282017        0.373733        0.002096        0.082542   \n",
       "12401        0.276853        0.025367       -0.134704       -0.367695   \n",
       "\n",
       "       feat_esm1b_288  feat_esm1b_289  \n",
       "12397       -0.016245        0.365967  \n",
       "12398       -0.277661       -0.145548  \n",
       "12399       -0.167771        0.236386  \n",
       "12400        0.168576        0.362109  \n",
       "12401       -0.001120        0.209603  \n",
       "\n",
       "[5 rows x 300 columns]"
      ]
     },
     "execution_count": 222,
     "metadata": {},
     "output_type": "execute_result"
    }
   ],
   "source": [
    "# displays bottom five rows\n",
    "df.tail(5)"
   ]
  },
  {
   "cell_type": "code",
   "execution_count": 224,
   "id": "36f7af59-cf4f-4e14-983e-174f4f0ee44a",
   "metadata": {},
   "outputs": [
    {
     "data": {
      "text/plain": [
       "Index(['Info_PepID', 'Info_organism_id', 'Info_protein_id', 'Info_pos',\n",
       "       'Info_AA', 'Info_epitope_id', 'Info_nPos', 'Info_nNeg', 'Info_cluster',\n",
       "       'Class',\n",
       "       ...\n",
       "       'feat_esm1b_280', 'feat_esm1b_281', 'feat_esm1b_282', 'feat_esm1b_283',\n",
       "       'feat_esm1b_284', 'feat_esm1b_285', 'feat_esm1b_286', 'feat_esm1b_287',\n",
       "       'feat_esm1b_288', 'feat_esm1b_289'],\n",
       "      dtype='object', length=300)"
      ]
     },
     "execution_count": 224,
     "metadata": {},
     "output_type": "execute_result"
    }
   ],
   "source": [
    "# displays columns\n",
    "df.columns"
   ]
  },
  {
   "cell_type": "code",
   "execution_count": 226,
   "id": "b7ba355d-3c90-49bb-ad49-92d31f0a1f57",
   "metadata": {},
   "outputs": [
    {
     "data": {
      "text/plain": [
       "Info_PepID           object\n",
       "Info_organism_id      int64\n",
       "Info_protein_id      object\n",
       "Info_pos              int64\n",
       "Info_AA              object\n",
       "                     ...   \n",
       "feat_esm1b_285      float64\n",
       "feat_esm1b_286      float64\n",
       "feat_esm1b_287      float64\n",
       "feat_esm1b_288      float64\n",
       "feat_esm1b_289      float64\n",
       "Length: 300, dtype: object"
      ]
     },
     "execution_count": 226,
     "metadata": {},
     "output_type": "execute_result"
    }
   ],
   "source": [
    "# displays all types within columns\n",
    "df.dtypes"
   ]
  },
  {
   "cell_type": "code",
   "execution_count": 228,
   "id": "8ee71a1a-bc60-4d96-841b-f393d3d1240e",
   "metadata": {},
   "outputs": [
    {
     "data": {
      "text/html": [
       "<div>\n",
       "<style scoped>\n",
       "    .dataframe tbody tr th:only-of-type {\n",
       "        vertical-align: middle;\n",
       "    }\n",
       "\n",
       "    .dataframe tbody tr th {\n",
       "        vertical-align: top;\n",
       "    }\n",
       "\n",
       "    .dataframe thead th {\n",
       "        text-align: right;\n",
       "    }\n",
       "</style>\n",
       "<table border=\"1\" class=\"dataframe\">\n",
       "  <thead>\n",
       "    <tr style=\"text-align: right;\">\n",
       "      <th></th>\n",
       "      <th>Info_organism_id</th>\n",
       "      <th>Info_pos</th>\n",
       "      <th>Info_cluster</th>\n",
       "      <th>Class</th>\n",
       "      <th>feat_esm1b_0</th>\n",
       "      <th>feat_esm1b_1</th>\n",
       "      <th>feat_esm1b_2</th>\n",
       "      <th>feat_esm1b_3</th>\n",
       "      <th>feat_esm1b_4</th>\n",
       "      <th>feat_esm1b_5</th>\n",
       "      <th>...</th>\n",
       "      <th>feat_esm1b_280</th>\n",
       "      <th>feat_esm1b_281</th>\n",
       "      <th>feat_esm1b_282</th>\n",
       "      <th>feat_esm1b_283</th>\n",
       "      <th>feat_esm1b_284</th>\n",
       "      <th>feat_esm1b_285</th>\n",
       "      <th>feat_esm1b_286</th>\n",
       "      <th>feat_esm1b_287</th>\n",
       "      <th>feat_esm1b_288</th>\n",
       "      <th>feat_esm1b_289</th>\n",
       "    </tr>\n",
       "  </thead>\n",
       "  <tbody>\n",
       "    <tr>\n",
       "      <th>count</th>\n",
       "      <td>12402.0</td>\n",
       "      <td>12402.000000</td>\n",
       "      <td>12402.000000</td>\n",
       "      <td>12402.000000</td>\n",
       "      <td>12388.000000</td>\n",
       "      <td>12388.000000</td>\n",
       "      <td>12390.000000</td>\n",
       "      <td>12389.000000</td>\n",
       "      <td>12390.000000</td>\n",
       "      <td>12388.000000</td>\n",
       "      <td>...</td>\n",
       "      <td>12388.000000</td>\n",
       "      <td>12388.000000</td>\n",
       "      <td>12388.000000</td>\n",
       "      <td>12389.000000</td>\n",
       "      <td>12388.000000</td>\n",
       "      <td>12389.000000</td>\n",
       "      <td>12388.000000</td>\n",
       "      <td>12391.000000</td>\n",
       "      <td>12389.000000</td>\n",
       "      <td>12388.000000</td>\n",
       "    </tr>\n",
       "    <tr>\n",
       "      <th>mean</th>\n",
       "      <td>5693.0</td>\n",
       "      <td>446.806160</td>\n",
       "      <td>139.667634</td>\n",
       "      <td>-0.970005</td>\n",
       "      <td>0.040924</td>\n",
       "      <td>0.150334</td>\n",
       "      <td>0.068379</td>\n",
       "      <td>0.077347</td>\n",
       "      <td>0.023808</td>\n",
       "      <td>-0.136817</td>\n",
       "      <td>...</td>\n",
       "      <td>0.097165</td>\n",
       "      <td>0.071550</td>\n",
       "      <td>-0.053270</td>\n",
       "      <td>-0.085493</td>\n",
       "      <td>0.031548</td>\n",
       "      <td>0.064117</td>\n",
       "      <td>-0.073711</td>\n",
       "      <td>-0.138898</td>\n",
       "      <td>-0.055978</td>\n",
       "      <td>0.116088</td>\n",
       "    </tr>\n",
       "    <tr>\n",
       "      <th>std</th>\n",
       "      <td>0.0</td>\n",
       "      <td>648.570623</td>\n",
       "      <td>77.944928</td>\n",
       "      <td>0.243095</td>\n",
       "      <td>0.194674</td>\n",
       "      <td>0.180886</td>\n",
       "      <td>0.206083</td>\n",
       "      <td>0.183967</td>\n",
       "      <td>0.193493</td>\n",
       "      <td>0.193170</td>\n",
       "      <td>...</td>\n",
       "      <td>0.220632</td>\n",
       "      <td>0.192462</td>\n",
       "      <td>0.195300</td>\n",
       "      <td>0.273192</td>\n",
       "      <td>0.232971</td>\n",
       "      <td>0.205014</td>\n",
       "      <td>0.189592</td>\n",
       "      <td>0.203090</td>\n",
       "      <td>0.191709</td>\n",
       "      <td>0.210566</td>\n",
       "    </tr>\n",
       "    <tr>\n",
       "      <th>min</th>\n",
       "      <td>5693.0</td>\n",
       "      <td>1.000000</td>\n",
       "      <td>7.000000</td>\n",
       "      <td>-1.000000</td>\n",
       "      <td>-0.739531</td>\n",
       "      <td>-0.664717</td>\n",
       "      <td>-0.918128</td>\n",
       "      <td>-0.931084</td>\n",
       "      <td>-1.010501</td>\n",
       "      <td>-1.086608</td>\n",
       "      <td>...</td>\n",
       "      <td>-1.035132</td>\n",
       "      <td>-0.987730</td>\n",
       "      <td>-0.898706</td>\n",
       "      <td>-1.284584</td>\n",
       "      <td>-1.076593</td>\n",
       "      <td>-1.045234</td>\n",
       "      <td>-1.043452</td>\n",
       "      <td>-0.982278</td>\n",
       "      <td>-0.860550</td>\n",
       "      <td>-1.059898</td>\n",
       "    </tr>\n",
       "    <tr>\n",
       "      <th>25%</th>\n",
       "      <td>5693.0</td>\n",
       "      <td>126.000000</td>\n",
       "      <td>70.000000</td>\n",
       "      <td>-1.000000</td>\n",
       "      <td>-0.084004</td>\n",
       "      <td>0.040529</td>\n",
       "      <td>-0.065351</td>\n",
       "      <td>-0.039926</td>\n",
       "      <td>-0.097352</td>\n",
       "      <td>-0.260591</td>\n",
       "      <td>...</td>\n",
       "      <td>-0.042771</td>\n",
       "      <td>-0.047586</td>\n",
       "      <td>-0.178838</td>\n",
       "      <td>-0.278291</td>\n",
       "      <td>-0.106314</td>\n",
       "      <td>-0.065745</td>\n",
       "      <td>-0.191607</td>\n",
       "      <td>-0.271883</td>\n",
       "      <td>-0.187564</td>\n",
       "      <td>0.008592</td>\n",
       "    </tr>\n",
       "    <tr>\n",
       "      <th>50%</th>\n",
       "      <td>5693.0</td>\n",
       "      <td>252.000000</td>\n",
       "      <td>145.000000</td>\n",
       "      <td>-1.000000</td>\n",
       "      <td>0.034410</td>\n",
       "      <td>0.145975</td>\n",
       "      <td>0.069221</td>\n",
       "      <td>0.081350</td>\n",
       "      <td>0.035148</td>\n",
       "      <td>-0.135299</td>\n",
       "      <td>...</td>\n",
       "      <td>0.097722</td>\n",
       "      <td>0.078830</td>\n",
       "      <td>-0.059335</td>\n",
       "      <td>-0.087916</td>\n",
       "      <td>0.048964</td>\n",
       "      <td>0.058741</td>\n",
       "      <td>-0.080203</td>\n",
       "      <td>-0.137899</td>\n",
       "      <td>-0.061822</td>\n",
       "      <td>0.132910</td>\n",
       "    </tr>\n",
       "    <tr>\n",
       "      <th>75%</th>\n",
       "      <td>5693.0</td>\n",
       "      <td>456.000000</td>\n",
       "      <td>205.000000</td>\n",
       "      <td>-1.000000</td>\n",
       "      <td>0.160128</td>\n",
       "      <td>0.255262</td>\n",
       "      <td>0.203641</td>\n",
       "      <td>0.201316</td>\n",
       "      <td>0.155194</td>\n",
       "      <td>-0.012340</td>\n",
       "      <td>...</td>\n",
       "      <td>0.243582</td>\n",
       "      <td>0.199581</td>\n",
       "      <td>0.066225</td>\n",
       "      <td>0.101746</td>\n",
       "      <td>0.193762</td>\n",
       "      <td>0.192159</td>\n",
       "      <td>0.037429</td>\n",
       "      <td>-0.007596</td>\n",
       "      <td>0.066036</td>\n",
       "      <td>0.246717</td>\n",
       "    </tr>\n",
       "    <tr>\n",
       "      <th>max</th>\n",
       "      <td>5693.0</td>\n",
       "      <td>4839.000000</td>\n",
       "      <td>283.000000</td>\n",
       "      <td>1.000000</td>\n",
       "      <td>0.925082</td>\n",
       "      <td>1.203393</td>\n",
       "      <td>0.974194</td>\n",
       "      <td>1.217404</td>\n",
       "      <td>0.709081</td>\n",
       "      <td>0.838205</td>\n",
       "      <td>...</td>\n",
       "      <td>1.003307</td>\n",
       "      <td>0.966091</td>\n",
       "      <td>0.964062</td>\n",
       "      <td>1.041853</td>\n",
       "      <td>0.842581</td>\n",
       "      <td>1.056373</td>\n",
       "      <td>0.898551</td>\n",
       "      <td>0.708880</td>\n",
       "      <td>0.921726</td>\n",
       "      <td>0.992171</td>\n",
       "    </tr>\n",
       "  </tbody>\n",
       "</table>\n",
       "<p>8 rows × 294 columns</p>\n",
       "</div>"
      ],
      "text/plain": [
       "       Info_organism_id      Info_pos  Info_cluster         Class  \\\n",
       "count           12402.0  12402.000000  12402.000000  12402.000000   \n",
       "mean             5693.0    446.806160    139.667634     -0.970005   \n",
       "std                 0.0    648.570623     77.944928      0.243095   \n",
       "min              5693.0      1.000000      7.000000     -1.000000   \n",
       "25%              5693.0    126.000000     70.000000     -1.000000   \n",
       "50%              5693.0    252.000000    145.000000     -1.000000   \n",
       "75%              5693.0    456.000000    205.000000     -1.000000   \n",
       "max              5693.0   4839.000000    283.000000      1.000000   \n",
       "\n",
       "       feat_esm1b_0  feat_esm1b_1  feat_esm1b_2  feat_esm1b_3  feat_esm1b_4  \\\n",
       "count  12388.000000  12388.000000  12390.000000  12389.000000  12390.000000   \n",
       "mean       0.040924      0.150334      0.068379      0.077347      0.023808   \n",
       "std        0.194674      0.180886      0.206083      0.183967      0.193493   \n",
       "min       -0.739531     -0.664717     -0.918128     -0.931084     -1.010501   \n",
       "25%       -0.084004      0.040529     -0.065351     -0.039926     -0.097352   \n",
       "50%        0.034410      0.145975      0.069221      0.081350      0.035148   \n",
       "75%        0.160128      0.255262      0.203641      0.201316      0.155194   \n",
       "max        0.925082      1.203393      0.974194      1.217404      0.709081   \n",
       "\n",
       "       feat_esm1b_5  ...  feat_esm1b_280  feat_esm1b_281  feat_esm1b_282  \\\n",
       "count  12388.000000  ...    12388.000000    12388.000000    12388.000000   \n",
       "mean      -0.136817  ...        0.097165        0.071550       -0.053270   \n",
       "std        0.193170  ...        0.220632        0.192462        0.195300   \n",
       "min       -1.086608  ...       -1.035132       -0.987730       -0.898706   \n",
       "25%       -0.260591  ...       -0.042771       -0.047586       -0.178838   \n",
       "50%       -0.135299  ...        0.097722        0.078830       -0.059335   \n",
       "75%       -0.012340  ...        0.243582        0.199581        0.066225   \n",
       "max        0.838205  ...        1.003307        0.966091        0.964062   \n",
       "\n",
       "       feat_esm1b_283  feat_esm1b_284  feat_esm1b_285  feat_esm1b_286  \\\n",
       "count    12389.000000    12388.000000    12389.000000    12388.000000   \n",
       "mean        -0.085493        0.031548        0.064117       -0.073711   \n",
       "std          0.273192        0.232971        0.205014        0.189592   \n",
       "min         -1.284584       -1.076593       -1.045234       -1.043452   \n",
       "25%         -0.278291       -0.106314       -0.065745       -0.191607   \n",
       "50%         -0.087916        0.048964        0.058741       -0.080203   \n",
       "75%          0.101746        0.193762        0.192159        0.037429   \n",
       "max          1.041853        0.842581        1.056373        0.898551   \n",
       "\n",
       "       feat_esm1b_287  feat_esm1b_288  feat_esm1b_289  \n",
       "count    12391.000000    12389.000000    12388.000000  \n",
       "mean        -0.138898       -0.055978        0.116088  \n",
       "std          0.203090        0.191709        0.210566  \n",
       "min         -0.982278       -0.860550       -1.059898  \n",
       "25%         -0.271883       -0.187564        0.008592  \n",
       "50%         -0.137899       -0.061822        0.132910  \n",
       "75%         -0.007596        0.066036        0.246717  \n",
       "max          0.708880        0.921726        0.992171  \n",
       "\n",
       "[8 rows x 294 columns]"
      ]
     },
     "execution_count": 228,
     "metadata": {},
     "output_type": "execute_result"
    }
   ],
   "source": [
    "# displays the mean, standard deviation, minimun and maximun\n",
    "df.describe()"
   ]
  },
  {
   "cell_type": "code",
   "execution_count": 230,
   "id": "56ec7518-2a8c-4ac3-8ea9-22dfb8678c00",
   "metadata": {},
   "outputs": [
    {
     "data": {
      "text/plain": [
       "0"
      ]
     },
     "execution_count": 230,
     "metadata": {},
     "output_type": "execute_result"
    }
   ],
   "source": [
    "# checking if there is any repated values\n",
    "df.duplicated().sum()"
   ]
  },
  {
   "cell_type": "markdown",
   "id": "d93ea70c-6d0a-472c-b9b3-cfaa5cfe1e37",
   "metadata": {},
   "source": [
    "# Data PreProcessing"
   ]
  },
  {
   "cell_type": "code",
   "execution_count": 232,
   "id": "7189c789-47e8-4b9e-ae36-219247b9f200",
   "metadata": {},
   "outputs": [],
   "source": [
    "# dropping columns that are not needed\n",
    "df = df.drop(columns=['Info_PepID','Info_organism_id','Info_protein_id','Info_pos','Info_AA','Info_epitope_id','Info_nPos','Info_nNeg','Info_cluster'])"
   ]
  },
  {
   "cell_type": "code",
   "execution_count": 234,
   "id": "5f68031e-32d4-4b70-82f9-c2916313546c",
   "metadata": {},
   "outputs": [],
   "source": [
    "# Split the dataset based on class labels (e.g., 'Survived' column)\n",
    "class_0 = df[df['Class'] == -1]\n",
    "class_1 = df[df['Class'] == 1]"
   ]
  },
  {
   "cell_type": "code",
   "execution_count": 236,
   "id": "91aa3b2a-bb6d-48af-96ff-2d7f04c248d3",
   "metadata": {},
   "outputs": [
    {
     "data": {
      "text/plain": [
       "((12216, 291), (186, 291))"
      ]
     },
     "execution_count": 236,
     "metadata": {},
     "output_type": "execute_result"
    }
   ],
   "source": [
    "class_0.shape, class_1.shape"
   ]
  },
  {
   "cell_type": "markdown",
   "id": "43c6fdc2-4b3a-48ae-8d0d-419bd7e3c0e5",
   "metadata": {},
   "source": [
    "# Data PreProcessing for class == -1"
   ]
  },
  {
   "cell_type": "code",
   "execution_count": 238,
   "id": "1eab2121-5719-4211-8529-fbf46e300566",
   "metadata": {},
   "outputs": [
    {
     "data": {
      "text/plain": [
       "Class              0\n",
       "feat_esm1b_0      13\n",
       "feat_esm1b_1      13\n",
       "feat_esm1b_2      11\n",
       "feat_esm1b_3      12\n",
       "                  ..\n",
       "feat_esm1b_285    12\n",
       "feat_esm1b_286    13\n",
       "feat_esm1b_287    10\n",
       "feat_esm1b_288    12\n",
       "feat_esm1b_289    13\n",
       "Length: 291, dtype: int64"
      ]
     },
     "execution_count": 238,
     "metadata": {},
     "output_type": "execute_result"
    }
   ],
   "source": [
    "# checking if there is any missing values for each column\n",
    "class_0.isnull().sum()"
   ]
  },
  {
   "cell_type": "code",
   "execution_count": 240,
   "id": "591a9dd3-869a-4c18-86dd-f0cdd2efd7d5",
   "metadata": {},
   "outputs": [],
   "source": [
    "# Calculate the number of missing values in each column\n",
    "class_0_missing_values = class_0.isnull().sum()\n",
    "\n",
    "# Identify columns where the number of missing values exceeds 20\n",
    "threshold = 20 \n",
    "class_0_columns_with_missing = class_0_missing_values[class_0_missing_values > threshold].index"
   ]
  },
  {
   "cell_type": "code",
   "execution_count": 242,
   "id": "07477aa8-362f-48a3-9db8-e752d2f2815b",
   "metadata": {},
   "outputs": [
    {
     "name": "stdout",
     "output_type": "stream",
     "text": [
      "Columns with more than 20 missing values:\n",
      "feat_esm1b_148: 11001 missing values\n"
     ]
    }
   ],
   "source": [
    "# Output the columns with missing values exceeding 20\n",
    "print(\"Columns with more than 20 missing values:\")\n",
    "for column in class_0_columns_with_missing:\n",
    "    print(f\"{column}: {class_0_missing_values[column]} missing values\")"
   ]
  },
  {
   "cell_type": "code",
   "execution_count": 244,
   "id": "4e972fc3-8ed7-413c-8c95-11601a51a363",
   "metadata": {},
   "outputs": [],
   "source": [
    " # since column feat_esm1b_148 has alot of missing values\n",
    "class_0 = class_0.drop(columns=['feat_esm1b_148'])"
   ]
  },
  {
   "cell_type": "code",
   "execution_count": 246,
   "id": "fb88cab4-6cd9-4bbe-bfb2-b59cb4222405",
   "metadata": {},
   "outputs": [],
   "source": [
    "# Calculate Q1, Q3, and IQR for each column in class 0\n",
    "class_0_Q1 = class_0.quantile(0.25)\n",
    "class_0_Q3 = class_0.quantile(0.75)\n",
    "class_0_IQR = class_0_Q3 - class_0_Q1"
   ]
  },
  {
   "cell_type": "code",
   "execution_count": 248,
   "id": "db19e297-ec42-4c35-b210-178976a8547f",
   "metadata": {},
   "outputs": [],
   "source": [
    "# Calculate lower and upper bounds for outliers\n",
    "class_0_lower_bound = class_0_Q1 - 1.5 * class_0_IQR\n",
    "class_0_upper_bound = class_0_Q3 + 1.5 * class_0_IQR"
   ]
  },
  {
   "cell_type": "code",
   "execution_count": 250,
   "id": "aa46841e-4134-4d9b-a854-e3b2fdb646b1",
   "metadata": {},
   "outputs": [],
   "source": [
    "# Filter out outliers\n",
    "class_0_upsampled = class_0[~((class_0 < class_0_lower_bound) | (class_0 > class_0_upper_bound)).any(axis=1)]\n"
   ]
  },
  {
   "cell_type": "code",
   "execution_count": 252,
   "id": "d3e9882d-ae48-4ff2-8a37-cd14087a13fb",
   "metadata": {},
   "outputs": [
    {
     "data": {
      "text/html": [
       "<div>\n",
       "<style scoped>\n",
       "    .dataframe tbody tr th:only-of-type {\n",
       "        vertical-align: middle;\n",
       "    }\n",
       "\n",
       "    .dataframe tbody tr th {\n",
       "        vertical-align: top;\n",
       "    }\n",
       "\n",
       "    .dataframe thead th {\n",
       "        text-align: right;\n",
       "    }\n",
       "</style>\n",
       "<table border=\"1\" class=\"dataframe\">\n",
       "  <thead>\n",
       "    <tr style=\"text-align: right;\">\n",
       "      <th></th>\n",
       "      <th>Class</th>\n",
       "      <th>feat_esm1b_0</th>\n",
       "      <th>feat_esm1b_1</th>\n",
       "      <th>feat_esm1b_2</th>\n",
       "      <th>feat_esm1b_3</th>\n",
       "      <th>feat_esm1b_4</th>\n",
       "      <th>feat_esm1b_5</th>\n",
       "      <th>feat_esm1b_6</th>\n",
       "      <th>feat_esm1b_7</th>\n",
       "      <th>feat_esm1b_8</th>\n",
       "      <th>...</th>\n",
       "      <th>feat_esm1b_280</th>\n",
       "      <th>feat_esm1b_281</th>\n",
       "      <th>feat_esm1b_282</th>\n",
       "      <th>feat_esm1b_283</th>\n",
       "      <th>feat_esm1b_284</th>\n",
       "      <th>feat_esm1b_285</th>\n",
       "      <th>feat_esm1b_286</th>\n",
       "      <th>feat_esm1b_287</th>\n",
       "      <th>feat_esm1b_288</th>\n",
       "      <th>feat_esm1b_289</th>\n",
       "    </tr>\n",
       "  </thead>\n",
       "  <tbody>\n",
       "    <tr>\n",
       "      <th>count</th>\n",
       "      <td>4927.0</td>\n",
       "      <td>4916.000000</td>\n",
       "      <td>4916.000000</td>\n",
       "      <td>4918.000000</td>\n",
       "      <td>4917.000000</td>\n",
       "      <td>4918.000000</td>\n",
       "      <td>4916.000000</td>\n",
       "      <td>4916.000000</td>\n",
       "      <td>4918.000000</td>\n",
       "      <td>4916.000000</td>\n",
       "      <td>...</td>\n",
       "      <td>4916.000000</td>\n",
       "      <td>4916.000000</td>\n",
       "      <td>4916.000000</td>\n",
       "      <td>4917.000000</td>\n",
       "      <td>4916.000000</td>\n",
       "      <td>4917.000000</td>\n",
       "      <td>4916.000000</td>\n",
       "      <td>4919.000000</td>\n",
       "      <td>4916.000000</td>\n",
       "      <td>4916.000000</td>\n",
       "    </tr>\n",
       "    <tr>\n",
       "      <th>mean</th>\n",
       "      <td>-1.0</td>\n",
       "      <td>-0.004565</td>\n",
       "      <td>0.137025</td>\n",
       "      <td>0.076270</td>\n",
       "      <td>0.103857</td>\n",
       "      <td>0.053464</td>\n",
       "      <td>-0.152859</td>\n",
       "      <td>-0.036353</td>\n",
       "      <td>-0.046252</td>\n",
       "      <td>-0.169756</td>\n",
       "      <td>...</td>\n",
       "      <td>0.122717</td>\n",
       "      <td>0.108266</td>\n",
       "      <td>-0.069325</td>\n",
       "      <td>-0.123720</td>\n",
       "      <td>0.107325</td>\n",
       "      <td>0.068381</td>\n",
       "      <td>-0.090120</td>\n",
       "      <td>-0.156776</td>\n",
       "      <td>-0.087995</td>\n",
       "      <td>0.160570</td>\n",
       "    </tr>\n",
       "    <tr>\n",
       "      <th>std</th>\n",
       "      <td>0.0</td>\n",
       "      <td>0.150409</td>\n",
       "      <td>0.124416</td>\n",
       "      <td>0.170480</td>\n",
       "      <td>0.150025</td>\n",
       "      <td>0.161089</td>\n",
       "      <td>0.154913</td>\n",
       "      <td>0.153736</td>\n",
       "      <td>0.197801</td>\n",
       "      <td>0.145620</td>\n",
       "      <td>...</td>\n",
       "      <td>0.181911</td>\n",
       "      <td>0.148421</td>\n",
       "      <td>0.151219</td>\n",
       "      <td>0.259196</td>\n",
       "      <td>0.180453</td>\n",
       "      <td>0.159456</td>\n",
       "      <td>0.135312</td>\n",
       "      <td>0.161225</td>\n",
       "      <td>0.162356</td>\n",
       "      <td>0.142001</td>\n",
       "    </tr>\n",
       "    <tr>\n",
       "      <th>min</th>\n",
       "      <td>-1.0</td>\n",
       "      <td>-0.435645</td>\n",
       "      <td>-0.261701</td>\n",
       "      <td>-0.448677</td>\n",
       "      <td>-0.397333</td>\n",
       "      <td>-0.464071</td>\n",
       "      <td>-0.610266</td>\n",
       "      <td>-0.574099</td>\n",
       "      <td>-0.671889</td>\n",
       "      <td>-0.648628</td>\n",
       "      <td>...</td>\n",
       "      <td>-0.466870</td>\n",
       "      <td>-0.416694</td>\n",
       "      <td>-0.540460</td>\n",
       "      <td>-0.816151</td>\n",
       "      <td>-0.526772</td>\n",
       "      <td>-0.431905</td>\n",
       "      <td>-0.517579</td>\n",
       "      <td>-0.611211</td>\n",
       "      <td>-0.566041</td>\n",
       "      <td>-0.335591</td>\n",
       "    </tr>\n",
       "    <tr>\n",
       "      <th>25%</th>\n",
       "      <td>-1.0</td>\n",
       "      <td>-0.103238</td>\n",
       "      <td>0.054480</td>\n",
       "      <td>-0.040554</td>\n",
       "      <td>0.002056</td>\n",
       "      <td>-0.053742</td>\n",
       "      <td>-0.260401</td>\n",
       "      <td>-0.142597</td>\n",
       "      <td>-0.191683</td>\n",
       "      <td>-0.267399</td>\n",
       "      <td>...</td>\n",
       "      <td>-0.007536</td>\n",
       "      <td>0.007072</td>\n",
       "      <td>-0.171357</td>\n",
       "      <td>-0.309816</td>\n",
       "      <td>-0.016331</td>\n",
       "      <td>-0.041546</td>\n",
       "      <td>-0.177646</td>\n",
       "      <td>-0.272586</td>\n",
       "      <td>-0.205280</td>\n",
       "      <td>0.065275</td>\n",
       "    </tr>\n",
       "    <tr>\n",
       "      <th>50%</th>\n",
       "      <td>-1.0</td>\n",
       "      <td>-0.002477</td>\n",
       "      <td>0.135485</td>\n",
       "      <td>0.075309</td>\n",
       "      <td>0.111817</td>\n",
       "      <td>0.059238</td>\n",
       "      <td>-0.148306</td>\n",
       "      <td>-0.035140</td>\n",
       "      <td>-0.075008</td>\n",
       "      <td>-0.169847</td>\n",
       "      <td>...</td>\n",
       "      <td>0.116284</td>\n",
       "      <td>0.111832</td>\n",
       "      <td>-0.072492</td>\n",
       "      <td>-0.124017</td>\n",
       "      <td>0.105954</td>\n",
       "      <td>0.061642</td>\n",
       "      <td>-0.090713</td>\n",
       "      <td>-0.158820</td>\n",
       "      <td>-0.090472</td>\n",
       "      <td>0.159545</td>\n",
       "    </tr>\n",
       "    <tr>\n",
       "      <th>75%</th>\n",
       "      <td>-1.0</td>\n",
       "      <td>0.094546</td>\n",
       "      <td>0.220536</td>\n",
       "      <td>0.190416</td>\n",
       "      <td>0.211657</td>\n",
       "      <td>0.163584</td>\n",
       "      <td>-0.047090</td>\n",
       "      <td>0.069969</td>\n",
       "      <td>0.094424</td>\n",
       "      <td>-0.071093</td>\n",
       "      <td>...</td>\n",
       "      <td>0.244021</td>\n",
       "      <td>0.210438</td>\n",
       "      <td>0.032301</td>\n",
       "      <td>0.056014</td>\n",
       "      <td>0.236196</td>\n",
       "      <td>0.174837</td>\n",
       "      <td>-0.000459</td>\n",
       "      <td>-0.045825</td>\n",
       "      <td>0.023680</td>\n",
       "      <td>0.252626</td>\n",
       "    </tr>\n",
       "    <tr>\n",
       "      <th>max</th>\n",
       "      <td>-1.0</td>\n",
       "      <td>0.518169</td>\n",
       "      <td>0.568597</td>\n",
       "      <td>0.604337</td>\n",
       "      <td>0.540703</td>\n",
       "      <td>0.530594</td>\n",
       "      <td>0.336149</td>\n",
       "      <td>0.433065</td>\n",
       "      <td>0.603394</td>\n",
       "      <td>0.304960</td>\n",
       "      <td>...</td>\n",
       "      <td>0.663297</td>\n",
       "      <td>0.568960</td>\n",
       "      <td>0.424356</td>\n",
       "      <td>0.636683</td>\n",
       "      <td>0.622803</td>\n",
       "      <td>0.572099</td>\n",
       "      <td>0.374160</td>\n",
       "      <td>0.371432</td>\n",
       "      <td>0.438464</td>\n",
       "      <td>0.601041</td>\n",
       "    </tr>\n",
       "  </tbody>\n",
       "</table>\n",
       "<p>8 rows × 290 columns</p>\n",
       "</div>"
      ],
      "text/plain": [
       "        Class  feat_esm1b_0  feat_esm1b_1  feat_esm1b_2  feat_esm1b_3  \\\n",
       "count  4927.0   4916.000000   4916.000000   4918.000000   4917.000000   \n",
       "mean     -1.0     -0.004565      0.137025      0.076270      0.103857   \n",
       "std       0.0      0.150409      0.124416      0.170480      0.150025   \n",
       "min      -1.0     -0.435645     -0.261701     -0.448677     -0.397333   \n",
       "25%      -1.0     -0.103238      0.054480     -0.040554      0.002056   \n",
       "50%      -1.0     -0.002477      0.135485      0.075309      0.111817   \n",
       "75%      -1.0      0.094546      0.220536      0.190416      0.211657   \n",
       "max      -1.0      0.518169      0.568597      0.604337      0.540703   \n",
       "\n",
       "       feat_esm1b_4  feat_esm1b_5  feat_esm1b_6  feat_esm1b_7  feat_esm1b_8  \\\n",
       "count   4918.000000   4916.000000   4916.000000   4918.000000   4916.000000   \n",
       "mean       0.053464     -0.152859     -0.036353     -0.046252     -0.169756   \n",
       "std        0.161089      0.154913      0.153736      0.197801      0.145620   \n",
       "min       -0.464071     -0.610266     -0.574099     -0.671889     -0.648628   \n",
       "25%       -0.053742     -0.260401     -0.142597     -0.191683     -0.267399   \n",
       "50%        0.059238     -0.148306     -0.035140     -0.075008     -0.169847   \n",
       "75%        0.163584     -0.047090      0.069969      0.094424     -0.071093   \n",
       "max        0.530594      0.336149      0.433065      0.603394      0.304960   \n",
       "\n",
       "       ...  feat_esm1b_280  feat_esm1b_281  feat_esm1b_282  feat_esm1b_283  \\\n",
       "count  ...     4916.000000     4916.000000     4916.000000     4917.000000   \n",
       "mean   ...        0.122717        0.108266       -0.069325       -0.123720   \n",
       "std    ...        0.181911        0.148421        0.151219        0.259196   \n",
       "min    ...       -0.466870       -0.416694       -0.540460       -0.816151   \n",
       "25%    ...       -0.007536        0.007072       -0.171357       -0.309816   \n",
       "50%    ...        0.116284        0.111832       -0.072492       -0.124017   \n",
       "75%    ...        0.244021        0.210438        0.032301        0.056014   \n",
       "max    ...        0.663297        0.568960        0.424356        0.636683   \n",
       "\n",
       "       feat_esm1b_284  feat_esm1b_285  feat_esm1b_286  feat_esm1b_287  \\\n",
       "count     4916.000000     4917.000000     4916.000000     4919.000000   \n",
       "mean         0.107325        0.068381       -0.090120       -0.156776   \n",
       "std          0.180453        0.159456        0.135312        0.161225   \n",
       "min         -0.526772       -0.431905       -0.517579       -0.611211   \n",
       "25%         -0.016331       -0.041546       -0.177646       -0.272586   \n",
       "50%          0.105954        0.061642       -0.090713       -0.158820   \n",
       "75%          0.236196        0.174837       -0.000459       -0.045825   \n",
       "max          0.622803        0.572099        0.374160        0.371432   \n",
       "\n",
       "       feat_esm1b_288  feat_esm1b_289  \n",
       "count     4916.000000     4916.000000  \n",
       "mean        -0.087995        0.160570  \n",
       "std          0.162356        0.142001  \n",
       "min         -0.566041       -0.335591  \n",
       "25%         -0.205280        0.065275  \n",
       "50%         -0.090472        0.159545  \n",
       "75%          0.023680        0.252626  \n",
       "max          0.438464        0.601041  \n",
       "\n",
       "[8 rows x 290 columns]"
      ]
     },
     "execution_count": 252,
     "metadata": {},
     "output_type": "execute_result"
    }
   ],
   "source": [
    "class_0_upsampled.describe()"
   ]
  },
  {
   "cell_type": "code",
   "execution_count": 254,
   "id": "0a153e12-7f1c-4366-9bdd-7e0d199d67b9",
   "metadata": {
    "scrolled": true
   },
   "outputs": [
    {
     "name": "stdout",
     "output_type": "stream",
     "text": [
      "\n",
      "DataFrame after replacing missing values with mean:\n"
     ]
    },
    {
     "name": "stderr",
     "output_type": "stream",
     "text": [
      "C:\\Users\\kegge\\AppData\\Local\\Temp\\ipykernel_9564\\2662640772.py:2: SettingWithCopyWarning: \n",
      "A value is trying to be set on a copy of a slice from a DataFrame\n",
      "\n",
      "See the caveats in the documentation: https://pandas.pydata.org/pandas-docs/stable/user_guide/indexing.html#returning-a-view-versus-a-copy\n",
      "  class_0_upsampled.fillna(df.mean(), inplace=True)\n"
     ]
    }
   ],
   "source": [
    "# replacing missing values with mean\n",
    "class_0_upsampled.fillna(df.mean(), inplace=True)\n",
    "print(\"\\nDataFrame after replacing missing values with mean:\")\n",
    "new_class_0_upsampled = class_0_upsampled\n"
   ]
  },
  {
   "cell_type": "code",
   "execution_count": 256,
   "id": "4629d3da-ca28-4066-996f-7a2123e823ae",
   "metadata": {},
   "outputs": [
    {
     "data": {
      "text/plain": [
       "0"
      ]
     },
     "execution_count": 256,
     "metadata": {},
     "output_type": "execute_result"
    }
   ],
   "source": [
    "new_class_0_upsampled.isnull().sum().sum()"
   ]
  },
  {
   "cell_type": "code",
   "execution_count": 258,
   "id": "5f284c75-2833-4eb7-bcb6-1c36fd954e06",
   "metadata": {},
   "outputs": [],
   "source": [
    "new_class_0_upsampled_2 = new_class_0_upsampled.drop(columns=['Class'])\n"
   ]
  },
  {
   "cell_type": "code",
   "execution_count": 260,
   "id": "c17fd420-39d8-4fbe-807b-ac017238c710",
   "metadata": {},
   "outputs": [
    {
     "data": {
      "image/png": "[encoded data removed]",
      "text/plain": [
       "<Figure size 1000x600 with 1 Axes>"
      ]
     },
     "metadata": {},
     "output_type": "display_data"
    }
   ],
   "source": [
    "# Select numerical columns only\n",
    "numerical_cols = new_class_0_upsampled_2.select_dtypes(include='number').columns\n",
    "\n",
    "# Compute the mean for each numerical column\n",
    "mean_values = new_class_0_upsampled_2[numerical_cols].mean()\n",
    "\n",
    "# Plot a histogram of the mean values\n",
    "plt.figure(figsize=(10, 6))\n",
    "plt.hist(mean_values, bins=20, color='skyblue', edgecolor='black')\n",
    "plt.title('Histogram of Mean Values Across Columns')\n",
    "plt.xlabel('Mean Value')\n",
    "plt.ylabel('Frequency')\n",
    "plt.show()"
   ]
  },
  {
   "cell_type": "markdown",
   "id": "5a01eae7-e194-494b-a708-a97881659279",
   "metadata": {},
   "source": [
    "# Data PreProcessing for class == 1"
   ]
  },
  {
   "cell_type": "code",
   "execution_count": 262,
   "id": "f4836a55-b225-4182-a0e4-4a52552c2f9d",
   "metadata": {},
   "outputs": [
    {
     "data": {
      "text/plain": [
       "444"
      ]
     },
     "execution_count": 262,
     "metadata": {},
     "output_type": "execute_result"
    }
   ],
   "source": [
    "# checking if there is any missing values\n",
    "class_1.isnull().sum().sum()"
   ]
  },
  {
   "cell_type": "code",
   "execution_count": 264,
   "id": "0dfa4460-c446-4903-9640-55f93220303e",
   "metadata": {},
   "outputs": [],
   "source": [
    "# Calculate the number of missing values in each column\n",
    "class_1_missing_values = class_1.isnull().sum()\n",
    "\n",
    "# Identify columns where the number of missing values exceeds 20\n",
    "threshold = 20 \n",
    "class_1_columns_with_missing = class_1_missing_values[class_1_missing_values > threshold].index"
   ]
  },
  {
   "cell_type": "code",
   "execution_count": 266,
   "id": "82c3f3a7-d9bc-41ca-a261-0c3f9e009bf7",
   "metadata": {},
   "outputs": [
    {
     "name": "stdout",
     "output_type": "stream",
     "text": [
      "Columns with more than 20 missing values:\n",
      "feat_esm1b_148: 169 missing values\n"
     ]
    }
   ],
   "source": [
    "# Output the columns with missing values exceeding 20\n",
    "print(\"Columns with more than 20 missing values:\")\n",
    "for column in class_1_columns_with_missing:\n",
    "    print(f\"{column}: {class_1_missing_values[column]} missing values\")"
   ]
  },
  {
   "cell_type": "code",
   "execution_count": 268,
   "id": "185fd71b-1bd4-48d9-b70b-a74bcfb23ee9",
   "metadata": {},
   "outputs": [],
   "source": [
    " # since column feat_esm1b_148 has alot of missing values\n",
    "class_1 = class_1.drop(columns=['feat_esm1b_148'])"
   ]
  },
  {
   "cell_type": "code",
   "execution_count": 270,
   "id": "66fd6bfe-9917-4860-a825-8a951440b72b",
   "metadata": {},
   "outputs": [],
   "source": [
    "# Calculate Q1, Q3, and IQR for each column in class 0\n",
    "class_1_Q1 = class_1.quantile(0.25)\n",
    "class_1_Q3 = class_1.quantile(0.75)\n",
    "class_1_IQR = class_1_Q3 - class_1_Q1"
   ]
  },
  {
   "cell_type": "code",
   "execution_count": 272,
   "id": "510bfdc9-6d94-46a1-bda1-643c56336265",
   "metadata": {},
   "outputs": [],
   "source": [
    "# Calculate lower and upper bounds for outliers\n",
    "class_1_lower_bound = class_1_Q1 - 1.5 * class_1_IQR\n",
    "class_1_upper_bound = class_1_Q3 + 1.5 * class_1_IQR"
   ]
  },
  {
   "cell_type": "code",
   "execution_count": 274,
   "id": "27af23b5-725f-436b-afab-1677e71cdbde",
   "metadata": {
    "scrolled": true
   },
   "outputs": [],
   "source": [
    "# Filter out outliers\n",
    "class_1_upsampled = class_1[~((class_1 < class_1_lower_bound) | (class_1 > class_1_upper_bound)).any(axis=1)]\n"
   ]
  },
  {
   "cell_type": "code",
   "execution_count": 276,
   "id": "01986090-9499-456a-8879-a73e0c6fc4cf",
   "metadata": {},
   "outputs": [
    {
     "data": {
      "text/html": [
       "<div>\n",
       "<style scoped>\n",
       "    .dataframe tbody tr th:only-of-type {\n",
       "        vertical-align: middle;\n",
       "    }\n",
       "\n",
       "    .dataframe tbody tr th {\n",
       "        vertical-align: top;\n",
       "    }\n",
       "\n",
       "    .dataframe thead th {\n",
       "        text-align: right;\n",
       "    }\n",
       "</style>\n",
       "<table border=\"1\" class=\"dataframe\">\n",
       "  <thead>\n",
       "    <tr style=\"text-align: right;\">\n",
       "      <th></th>\n",
       "      <th>Class</th>\n",
       "      <th>feat_esm1b_0</th>\n",
       "      <th>feat_esm1b_1</th>\n",
       "      <th>feat_esm1b_2</th>\n",
       "      <th>feat_esm1b_3</th>\n",
       "      <th>feat_esm1b_4</th>\n",
       "      <th>feat_esm1b_5</th>\n",
       "      <th>feat_esm1b_6</th>\n",
       "      <th>feat_esm1b_7</th>\n",
       "      <th>feat_esm1b_8</th>\n",
       "      <th>...</th>\n",
       "      <th>feat_esm1b_280</th>\n",
       "      <th>feat_esm1b_281</th>\n",
       "      <th>feat_esm1b_282</th>\n",
       "      <th>feat_esm1b_283</th>\n",
       "      <th>feat_esm1b_284</th>\n",
       "      <th>feat_esm1b_285</th>\n",
       "      <th>feat_esm1b_286</th>\n",
       "      <th>feat_esm1b_287</th>\n",
       "      <th>feat_esm1b_288</th>\n",
       "      <th>feat_esm1b_289</th>\n",
       "    </tr>\n",
       "  </thead>\n",
       "  <tbody>\n",
       "    <tr>\n",
       "      <th>count</th>\n",
       "      <td>39.0</td>\n",
       "      <td>38.000000</td>\n",
       "      <td>38.000000</td>\n",
       "      <td>38.000000</td>\n",
       "      <td>38.000000</td>\n",
       "      <td>38.000000</td>\n",
       "      <td>38.000000</td>\n",
       "      <td>38.000000</td>\n",
       "      <td>38.000000</td>\n",
       "      <td>38.000000</td>\n",
       "      <td>...</td>\n",
       "      <td>38.000000</td>\n",
       "      <td>38.000000</td>\n",
       "      <td>38.000000</td>\n",
       "      <td>38.000000</td>\n",
       "      <td>38.000000</td>\n",
       "      <td>38.000000</td>\n",
       "      <td>38.000000</td>\n",
       "      <td>38.000000</td>\n",
       "      <td>38.000000</td>\n",
       "      <td>38.000000</td>\n",
       "    </tr>\n",
       "    <tr>\n",
       "      <th>mean</th>\n",
       "      <td>1.0</td>\n",
       "      <td>0.069099</td>\n",
       "      <td>0.133827</td>\n",
       "      <td>0.094203</td>\n",
       "      <td>0.122547</td>\n",
       "      <td>0.036998</td>\n",
       "      <td>-0.145426</td>\n",
       "      <td>-0.057857</td>\n",
       "      <td>-0.072161</td>\n",
       "      <td>-0.210176</td>\n",
       "      <td>...</td>\n",
       "      <td>0.140274</td>\n",
       "      <td>0.117437</td>\n",
       "      <td>-0.161269</td>\n",
       "      <td>-0.192409</td>\n",
       "      <td>-0.011705</td>\n",
       "      <td>-0.057187</td>\n",
       "      <td>-0.111857</td>\n",
       "      <td>-0.217599</td>\n",
       "      <td>-0.044939</td>\n",
       "      <td>0.145853</td>\n",
       "    </tr>\n",
       "    <tr>\n",
       "      <th>std</th>\n",
       "      <td>0.0</td>\n",
       "      <td>0.137841</td>\n",
       "      <td>0.149228</td>\n",
       "      <td>0.188800</td>\n",
       "      <td>0.155531</td>\n",
       "      <td>0.166769</td>\n",
       "      <td>0.199717</td>\n",
       "      <td>0.156375</td>\n",
       "      <td>0.204226</td>\n",
       "      <td>0.208223</td>\n",
       "      <td>...</td>\n",
       "      <td>0.146911</td>\n",
       "      <td>0.155753</td>\n",
       "      <td>0.195100</td>\n",
       "      <td>0.224998</td>\n",
       "      <td>0.210745</td>\n",
       "      <td>0.176181</td>\n",
       "      <td>0.130560</td>\n",
       "      <td>0.154885</td>\n",
       "      <td>0.168278</td>\n",
       "      <td>0.157063</td>\n",
       "    </tr>\n",
       "    <tr>\n",
       "      <th>min</th>\n",
       "      <td>1.0</td>\n",
       "      <td>-0.225770</td>\n",
       "      <td>-0.093859</td>\n",
       "      <td>-0.281710</td>\n",
       "      <td>-0.171696</td>\n",
       "      <td>-0.284572</td>\n",
       "      <td>-0.654987</td>\n",
       "      <td>-0.346033</td>\n",
       "      <td>-0.480445</td>\n",
       "      <td>-0.762412</td>\n",
       "      <td>...</td>\n",
       "      <td>-0.099870</td>\n",
       "      <td>-0.319399</td>\n",
       "      <td>-0.687144</td>\n",
       "      <td>-0.799078</td>\n",
       "      <td>-0.508208</td>\n",
       "      <td>-0.375093</td>\n",
       "      <td>-0.312948</td>\n",
       "      <td>-0.593079</td>\n",
       "      <td>-0.393235</td>\n",
       "      <td>-0.215248</td>\n",
       "    </tr>\n",
       "    <tr>\n",
       "      <th>25%</th>\n",
       "      <td>1.0</td>\n",
       "      <td>-0.000816</td>\n",
       "      <td>0.058291</td>\n",
       "      <td>-0.027666</td>\n",
       "      <td>0.029821</td>\n",
       "      <td>-0.065322</td>\n",
       "      <td>-0.243709</td>\n",
       "      <td>-0.176781</td>\n",
       "      <td>-0.230247</td>\n",
       "      <td>-0.328364</td>\n",
       "      <td>...</td>\n",
       "      <td>0.003279</td>\n",
       "      <td>0.015954</td>\n",
       "      <td>-0.266726</td>\n",
       "      <td>-0.352372</td>\n",
       "      <td>-0.128278</td>\n",
       "      <td>-0.150805</td>\n",
       "      <td>-0.234741</td>\n",
       "      <td>-0.291291</td>\n",
       "      <td>-0.152501</td>\n",
       "      <td>0.033526</td>\n",
       "    </tr>\n",
       "    <tr>\n",
       "      <th>50%</th>\n",
       "      <td>1.0</td>\n",
       "      <td>0.059437</td>\n",
       "      <td>0.124474</td>\n",
       "      <td>0.096089</td>\n",
       "      <td>0.110445</td>\n",
       "      <td>0.069045</td>\n",
       "      <td>-0.114253</td>\n",
       "      <td>-0.090123</td>\n",
       "      <td>-0.098011</td>\n",
       "      <td>-0.192328</td>\n",
       "      <td>...</td>\n",
       "      <td>0.153723</td>\n",
       "      <td>0.112286</td>\n",
       "      <td>-0.169640</td>\n",
       "      <td>-0.181624</td>\n",
       "      <td>0.009370</td>\n",
       "      <td>-0.079381</td>\n",
       "      <td>-0.098329</td>\n",
       "      <td>-0.231079</td>\n",
       "      <td>-0.036820</td>\n",
       "      <td>0.142052</td>\n",
       "    </tr>\n",
       "    <tr>\n",
       "      <th>75%</th>\n",
       "      <td>1.0</td>\n",
       "      <td>0.133807</td>\n",
       "      <td>0.211572</td>\n",
       "      <td>0.188821</td>\n",
       "      <td>0.226831</td>\n",
       "      <td>0.151875</td>\n",
       "      <td>-0.012473</td>\n",
       "      <td>0.083242</td>\n",
       "      <td>0.055037</td>\n",
       "      <td>-0.053625</td>\n",
       "      <td>...</td>\n",
       "      <td>0.254881</td>\n",
       "      <td>0.247276</td>\n",
       "      <td>0.020048</td>\n",
       "      <td>-0.051382</td>\n",
       "      <td>0.156768</td>\n",
       "      <td>0.024823</td>\n",
       "      <td>-0.030638</td>\n",
       "      <td>-0.092810</td>\n",
       "      <td>0.061270</td>\n",
       "      <td>0.259093</td>\n",
       "    </tr>\n",
       "    <tr>\n",
       "      <th>max</th>\n",
       "      <td>1.0</td>\n",
       "      <td>0.356340</td>\n",
       "      <td>0.534273</td>\n",
       "      <td>0.508185</td>\n",
       "      <td>0.460237</td>\n",
       "      <td>0.400960</td>\n",
       "      <td>0.246261</td>\n",
       "      <td>0.223168</td>\n",
       "      <td>0.420391</td>\n",
       "      <td>0.173000</td>\n",
       "      <td>...</td>\n",
       "      <td>0.525437</td>\n",
       "      <td>0.368707</td>\n",
       "      <td>0.154254</td>\n",
       "      <td>0.196487</td>\n",
       "      <td>0.283272</td>\n",
       "      <td>0.345452</td>\n",
       "      <td>0.150775</td>\n",
       "      <td>0.086979</td>\n",
       "      <td>0.300689</td>\n",
       "      <td>0.445527</td>\n",
       "    </tr>\n",
       "  </tbody>\n",
       "</table>\n",
       "<p>8 rows × 290 columns</p>\n",
       "</div>"
      ],
      "text/plain": [
       "       Class  feat_esm1b_0  feat_esm1b_1  feat_esm1b_2  feat_esm1b_3  \\\n",
       "count   39.0     38.000000     38.000000     38.000000     38.000000   \n",
       "mean     1.0      0.069099      0.133827      0.094203      0.122547   \n",
       "std      0.0      0.137841      0.149228      0.188800      0.155531   \n",
       "min      1.0     -0.225770     -0.093859     -0.281710     -0.171696   \n",
       "25%      1.0     -0.000816      0.058291     -0.027666      0.029821   \n",
       "50%      1.0      0.059437      0.124474      0.096089      0.110445   \n",
       "75%      1.0      0.133807      0.211572      0.188821      0.226831   \n",
       "max      1.0      0.356340      0.534273      0.508185      0.460237   \n",
       "\n",
       "       feat_esm1b_4  feat_esm1b_5  feat_esm1b_6  feat_esm1b_7  feat_esm1b_8  \\\n",
       "count     38.000000     38.000000     38.000000     38.000000     38.000000   \n",
       "mean       0.036998     -0.145426     -0.057857     -0.072161     -0.210176   \n",
       "std        0.166769      0.199717      0.156375      0.204226      0.208223   \n",
       "min       -0.284572     -0.654987     -0.346033     -0.480445     -0.762412   \n",
       "25%       -0.065322     -0.243709     -0.176781     -0.230247     -0.328364   \n",
       "50%        0.069045     -0.114253     -0.090123     -0.098011     -0.192328   \n",
       "75%        0.151875     -0.012473      0.083242      0.055037     -0.053625   \n",
       "max        0.400960      0.246261      0.223168      0.420391      0.173000   \n",
       "\n",
       "       ...  feat_esm1b_280  feat_esm1b_281  feat_esm1b_282  feat_esm1b_283  \\\n",
       "count  ...       38.000000       38.000000       38.000000       38.000000   \n",
       "mean   ...        0.140274        0.117437       -0.161269       -0.192409   \n",
       "std    ...        0.146911        0.155753        0.195100        0.224998   \n",
       "min    ...       -0.099870       -0.319399       -0.687144       -0.799078   \n",
       "25%    ...        0.003279        0.015954       -0.266726       -0.352372   \n",
       "50%    ...        0.153723        0.112286       -0.169640       -0.181624   \n",
       "75%    ...        0.254881        0.247276        0.020048       -0.051382   \n",
       "max    ...        0.525437        0.368707        0.154254        0.196487   \n",
       "\n",
       "       feat_esm1b_284  feat_esm1b_285  feat_esm1b_286  feat_esm1b_287  \\\n",
       "count       38.000000       38.000000       38.000000       38.000000   \n",
       "mean        -0.011705       -0.057187       -0.111857       -0.217599   \n",
       "std          0.210745        0.176181        0.130560        0.154885   \n",
       "min         -0.508208       -0.375093       -0.312948       -0.593079   \n",
       "25%         -0.128278       -0.150805       -0.234741       -0.291291   \n",
       "50%          0.009370       -0.079381       -0.098329       -0.231079   \n",
       "75%          0.156768        0.024823       -0.030638       -0.092810   \n",
       "max          0.283272        0.345452        0.150775        0.086979   \n",
       "\n",
       "       feat_esm1b_288  feat_esm1b_289  \n",
       "count       38.000000       38.000000  \n",
       "mean        -0.044939        0.145853  \n",
       "std          0.168278        0.157063  \n",
       "min         -0.393235       -0.215248  \n",
       "25%         -0.152501        0.033526  \n",
       "50%         -0.036820        0.142052  \n",
       "75%          0.061270        0.259093  \n",
       "max          0.300689        0.445527  \n",
       "\n",
       "[8 rows x 290 columns]"
      ]
     },
     "execution_count": 276,
     "metadata": {},
     "output_type": "execute_result"
    }
   ],
   "source": [
    "class_1_upsampled.describe()"
   ]
  },
  {
   "cell_type": "code",
   "execution_count": 278,
   "id": "02150a56-d5d3-41b4-b5aa-d9c78e4c9913",
   "metadata": {
    "scrolled": true
   },
   "outputs": [
    {
     "name": "stdout",
     "output_type": "stream",
     "text": [
      "\n",
      "DataFrame after replacing missing values with mean:\n"
     ]
    },
    {
     "name": "stderr",
     "output_type": "stream",
     "text": [
      "C:\\Users\\kegge\\AppData\\Local\\Temp\\ipykernel_9564\\3095005665.py:2: SettingWithCopyWarning: \n",
      "A value is trying to be set on a copy of a slice from a DataFrame\n",
      "\n",
      "See the caveats in the documentation: https://pandas.pydata.org/pandas-docs/stable/user_guide/indexing.html#returning-a-view-versus-a-copy\n",
      "  class_1_upsampled.fillna(df.mean(), inplace=True)\n"
     ]
    }
   ],
   "source": [
    "# replacing missing values with mean\n",
    "class_1_upsampled.fillna(df.mean(), inplace=True)\n",
    "print(\"\\nDataFrame after replacing missing values with mean:\")\n",
    "new_class_1_upsampled = class_1_upsampled\n"
   ]
  },
  {
   "cell_type": "code",
   "execution_count": 280,
   "id": "7a2185eb-3fd8-4bad-8562-2d137c965a5d",
   "metadata": {},
   "outputs": [
    {
     "data": {
      "text/plain": [
       "0"
      ]
     },
     "execution_count": 280,
     "metadata": {},
     "output_type": "execute_result"
    }
   ],
   "source": [
    "new_class_1_upsampled.isnull().sum().sum()"
   ]
  },
  {
   "cell_type": "code",
   "execution_count": 282,
   "id": "e758d3c1-5f3e-4993-a252-4aba8344367a",
   "metadata": {},
   "outputs": [],
   "source": [
    "new_class_1_upsampled_2 = new_class_1_upsampled.drop(columns=['Class'])"
   ]
  },
  {
   "cell_type": "code",
   "execution_count": 284,
   "id": "f0564b06-783d-4c0b-8bde-c124978719cb",
   "metadata": {},
   "outputs": [
    {
     "data": {
      "image/png": "[encoded data removed]",
      "text/plain": [
       "<Figure size 1000x600 with 1 Axes>"
      ]
     },
     "metadata": {},
     "output_type": "display_data"
    }
   ],
   "source": [
    "# Select numerical columns only\n",
    "numerical_cols = new_class_1_upsampled_2.select_dtypes(include='number').columns\n",
    "\n",
    "# Compute the mean for each numerical column\n",
    "class_1_mean_values = new_class_1_upsampled_2[numerical_cols].mean()\n",
    "\n",
    "# Plot a histogram of the mean values\n",
    "plt.figure(figsize=(10, 6))\n",
    "plt.hist(class_1_mean_values, bins=20, color='skyblue', edgecolor='black')\n",
    "plt.title('Histogram of Mean Values Across Columns')\n",
    "plt.xlabel('Mean Value')\n",
    "plt.ylabel('Frequency')\n",
    "plt.show()"
   ]
  },
  {
   "cell_type": "markdown",
   "id": "eeed9c00-0e6e-4e83-a34f-f937c23f02a1",
   "metadata": {},
   "source": [
    "# Resampling"
   ]
  },
  {
   "cell_type": "code",
   "execution_count": 286,
   "id": "1935cab1-1957-424f-a71a-272e7e90a5b5",
   "metadata": {},
   "outputs": [],
   "source": [
    "class_0 = new_class_0_upsampled_2\n",
    "class_1 = new_class_1_upsampled_2"
   ]
  },
  {
   "cell_type": "code",
   "execution_count": 288,
   "id": "37001577-2d59-4049-aec3-bbeab0c5e0d6",
   "metadata": {},
   "outputs": [],
   "source": [
    "# Split class 1 and -1 data into features and target\n",
    "\n",
    "# class 0 == -1 \n",
    "X_class_0 = class_0.drop('feat_esm1b_0', axis=1) # dependent variable \n",
    "y_class_0 = class_0['feat_esm1b_0'] # independent variable\n",
    "\n",
    "# class 1 == 1\n",
    "X_class_1 = class_1.drop('feat_esm1b_0', axis=1) # dependent variable \n",
    "y_class_1 = class_1['feat_esm1b_0'] # independent variable"
   ]
  },
  {
   "cell_type": "code",
   "execution_count": 290,
   "id": "2a6174c7-3511-4d12-97ab-d7c0e51f56ab",
   "metadata": {},
   "outputs": [
    {
     "data": {
      "text/plain": [
       "((4927, 288), (4927,), (39, 288), (39,))"
      ]
     },
     "execution_count": 290,
     "metadata": {},
     "output_type": "execute_result"
    }
   ],
   "source": [
    "X_class_0.shape, y_class_0.shape, X_class_1.shape, y_class_1.shape"
   ]
  },
  {
   "cell_type": "code",
   "execution_count": 292,
   "id": "aed005c6-cc13-43c7-96f3-eb3686d793e3",
   "metadata": {},
   "outputs": [],
   "source": [
    "from sklearn.utils import resample"
   ]
  },
  {
   "cell_type": "code",
   "execution_count": 294,
   "id": "81d0ecd8-a530-43ab-b708-f93e85b63c61",
   "metadata": {},
   "outputs": [],
   "source": [
    "# increase data from X_class_1 (class == 1) to match data from X_class_0 (class == -1) by upsampling to match the majority class\n",
    "X_class_1_upsampled = resample(X_class_1, replace = True, n_samples = 4927, random_state=123)"
   ]
  },
  {
   "cell_type": "code",
   "execution_count": 296,
   "id": "d6f3d6c7-b3f9-4736-bab4-b4fd5e09ebd9",
   "metadata": {},
   "outputs": [
    {
     "data": {
      "text/plain": [
       "(4927, 288)"
      ]
     },
     "execution_count": 296,
     "metadata": {},
     "output_type": "execute_result"
    }
   ],
   "source": [
    "X_class_1_upsampled.shape"
   ]
  },
  {
   "cell_type": "code",
   "execution_count": 298,
   "id": "da07f75b-f600-4af6-a8fc-5254b0350c8f",
   "metadata": {
    "scrolled": true
   },
   "outputs": [],
   "source": [
    "# Concatenate X_class_0 (class == -1) and X_class_1 (class == 1) DataFrames together to create X_class\n",
    "X_class = pd.concat([X_class_0, X_class_1_upsampled], axis=0)\n"
   ]
  },
  {
   "cell_type": "code",
   "execution_count": 300,
   "id": "f402ed46-c64a-4b63-815d-7bffd7410e99",
   "metadata": {
    "scrolled": true
   },
   "outputs": [],
   "source": [
    "# Concatenate y_class_0 (class == -1) and y_class_1 (class == 1) DataFrames together to create y_class\n",
    "y_class = pd.concat([y_class_0, y_class_1], axis=0)\n"
   ]
  },
  {
   "cell_type": "code",
   "execution_count": 302,
   "id": "3fe0cb0e-51c2-4334-a308-11ea3a3dc25d",
   "metadata": {},
   "outputs": [
    {
     "data": {
      "text/plain": [
       "((9854, 288), (4966,))"
      ]
     },
     "execution_count": 302,
     "metadata": {},
     "output_type": "execute_result"
    }
   ],
   "source": [
    "X_class.shape, y_class.shape"
   ]
  },
  {
   "cell_type": "code",
   "execution_count": 304,
   "id": "1fc8eee8-a732-472d-bfdf-2293d0a1edb7",
   "metadata": {},
   "outputs": [],
   "source": [
    "# downsize X_class (class == 1) to match y_class data (class == -1) for splitting the data\n",
    "X_class_1_downsampled = resample(X_class, replace = True, n_samples = 4966, random_state=123)"
   ]
  },
  {
   "cell_type": "code",
   "execution_count": 306,
   "id": "77028b1f-d345-4366-84bc-539633e75538",
   "metadata": {},
   "outputs": [
    {
     "data": {
      "text/plain": [
       "((4966, 288), (4966,))"
      ]
     },
     "execution_count": 306,
     "metadata": {},
     "output_type": "execute_result"
    }
   ],
   "source": [
    "X_class_1_downsampled.shape, y_class.shape"
   ]
  },
  {
   "cell_type": "markdown",
   "id": "4462d2e5-6c7d-48f6-9a80-570b0f6dbfb2",
   "metadata": {},
   "source": [
    "# Splitting the data"
   ]
  },
  {
   "cell_type": "code",
   "execution_count": 308,
   "id": "09b15d26-f415-4ed1-9639-56e981814082",
   "metadata": {},
   "outputs": [],
   "source": [
    "from sklearn.model_selection import train_test_split\n",
    "from imblearn.over_sampling import RandomOverSampler\n",
    "from sklearn.ensemble import RandomForestClassifier\n",
    "from sklearn.metrics import classification_report"
   ]
  },
  {
   "cell_type": "code",
   "execution_count": 310,
   "id": "96c9b875-0bf2-4ce1-8ba9-a49b7ab42923",
   "metadata": {},
   "outputs": [],
   "source": [
    "# Split the dataset into training and test sets\n",
    "X_train, X_test, y_train, y_test = train_test_split(X_class_1_downsampled, y_class, test_size=0.2, random_state=42)"
   ]
  },
  {
   "cell_type": "markdown",
   "id": "f710718e-e185-41a7-b288-587197607c9c",
   "metadata": {},
   "source": [
    "# Random Forest"
   ]
  },
  {
   "cell_type": "code",
   "execution_count": 312,
   "id": "5cf55035-1cbd-4301-bd01-eaac5e81574c",
   "metadata": {},
   "outputs": [],
   "source": [
    "from sklearn.ensemble import RandomForestRegressor"
   ]
  },
  {
   "cell_type": "code",
   "execution_count": 314,
   "id": "a3154b76-9d16-49e6-bf1a-eed874feee5e",
   "metadata": {},
   "outputs": [],
   "source": [
    "# Step 4: Train the Random Forest Regressor\n",
    "reg = RandomForestRegressor(n_estimators=100, random_state=42)"
   ]
  },
  {
   "cell_type": "code",
   "execution_count": 318,
   "id": "bd8eef69-7ccb-4b73-ace2-cf47f8972709",
   "metadata": {},
   "outputs": [
    {
     "data": {
      "text/html": [
       "<style>#sk-container-id-4 {color: black;}#sk-container-id-4 pre{padding: 0;}#sk-container-id-4 div.sk-toggleable {background-color: white;}#sk-container-id-4 label.sk-toggleable__label {cursor: pointer;display: block;width: 100%;margin-bottom: 0;padding: 0.3em;box-sizing: border-box;text-align: center;}#sk-container-id-4 label.sk-toggleable__label-arrow:before {content: \"▸\";float: left;margin-right: 0.25em;color: #696969;}#sk-container-id-4 label.sk-toggleable__label-arrow:hover:before {color: black;}#sk-container-id-4 div.sk-estimator:hover label.sk-toggleable__label-arrow:before {color: black;}#sk-container-id-4 div.sk-toggleable__content {max-height: 0;max-width: 0;overflow: hidden;text-align: left;background-color: #f0f8ff;}#sk-container-id-4 div.sk-toggleable__content pre {margin: 0.2em;color: black;border-radius: 0.25em;background-color: #f0f8ff;}#sk-container-id-4 input.sk-toggleable__control:checked~div.sk-toggleable__content {max-height: 200px;max-width: 100%;overflow: auto;}#sk-container-id-4 input.sk-toggleable__control:checked~label.sk-toggleable__label-arrow:before {content: \"▾\";}#sk-container-id-4 div.sk-estimator input.sk-toggleable__control:checked~label.sk-toggleable__label {background-color: #d4ebff;}#sk-container-id-4 div.sk-label input.sk-toggleable__control:checked~label.sk-toggleable__label {background-color: #d4ebff;}#sk-container-id-4 input.sk-hidden--visually {border: 0;clip: rect(1px 1px 1px 1px);clip: rect(1px, 1px, 1px, 1px);height: 1px;margin: -1px;overflow: hidden;padding: 0;position: absolute;width: 1px;}#sk-container-id-4 div.sk-estimator {font-family: monospace;background-color: #f0f8ff;border: 1px dotted black;border-radius: 0.25em;box-sizing: border-box;margin-bottom: 0.5em;}#sk-container-id-4 div.sk-estimator:hover {background-color: #d4ebff;}#sk-container-id-4 div.sk-parallel-item::after {content: \"\";width: 100%;border-bottom: 1px solid gray;flex-grow: 1;}#sk-container-id-4 div.sk-label:hover label.sk-toggleable__label {background-color: #d4ebff;}#sk-container-id-4 div.sk-serial::before {content: \"\";position: absolute;border-left: 1px solid gray;box-sizing: border-box;top: 0;bottom: 0;left: 50%;z-index: 0;}#sk-container-id-4 div.sk-serial {display: flex;flex-direction: column;align-items: center;background-color: white;padding-right: 0.2em;padding-left: 0.2em;position: relative;}#sk-container-id-4 div.sk-item {position: relative;z-index: 1;}#sk-container-id-4 div.sk-parallel {display: flex;align-items: stretch;justify-content: center;background-color: white;position: relative;}#sk-container-id-4 div.sk-item::before, #sk-container-id-4 div.sk-parallel-item::before {content: \"\";position: absolute;border-left: 1px solid gray;box-sizing: border-box;top: 0;bottom: 0;left: 50%;z-index: -1;}#sk-container-id-4 div.sk-parallel-item {display: flex;flex-direction: column;z-index: 1;position: relative;background-color: white;}#sk-container-id-4 div.sk-parallel-item:first-child::after {align-self: flex-end;width: 50%;}#sk-container-id-4 div.sk-parallel-item:last-child::after {align-self: flex-start;width: 50%;}#sk-container-id-4 div.sk-parallel-item:only-child::after {width: 0;}#sk-container-id-4 div.sk-dashed-wrapped {border: 1px dashed gray;margin: 0 0.4em 0.5em 0.4em;box-sizing: border-box;padding-bottom: 0.4em;background-color: white;}#sk-container-id-4 div.sk-label label {font-family: monospace;font-weight: bold;display: inline-block;line-height: 1.2em;}#sk-container-id-4 div.sk-label-container {text-align: center;}#sk-container-id-4 div.sk-container {/* jupyter's `normalize.less` sets `[hidden] { display: none; }` but bootstrap.min.css set `[hidden] { display: none !important; }` so we also need the `!important` here to be able to override the default hidden behavior on the sphinx rendered scikit-learn.org. See: https://github.com/scikit-learn/scikit-learn/issues/21755 */display: inline-block !important;position: relative;}#sk-container-id-4 div.sk-text-repr-fallback {display: none;}</style><div id=\"sk-container-id-4\" class=\"sk-top-container\"><div class=\"sk-text-repr-fallback\"><pre>RandomForestRegressor(random_state=42)</pre><b>In a Jupyter environment, please rerun this cell to show the HTML representation or trust the notebook. <br />On GitHub, the HTML representation is unable to render, please try loading this page with nbviewer.org.</b></div><div class=\"sk-container\" hidden><div class=\"sk-item\"><div class=\"sk-estimator sk-toggleable\"><input class=\"sk-toggleable__control sk-hidden--visually\" id=\"sk-estimator-id-18\" type=\"checkbox\" checked><label for=\"sk-estimator-id-18\" class=\"sk-toggleable__label sk-toggleable__label-arrow\">RandomForestRegressor</label><div class=\"sk-toggleable__content\"><pre>RandomForestRegressor(random_state=42)</pre></div></div></div></div></div>"
      ],
      "text/plain": [
       "RandomForestRegressor(random_state=42)"
      ]
     },
     "execution_count": 318,
     "metadata": {},
     "output_type": "execute_result"
    }
   ],
   "source": [
    "# Fit the model\n",
    "reg.fit(X_train, y_train)"
   ]
  },
  {
   "cell_type": "markdown",
   "id": "2db8d032-153e-43f8-864e-3dc3d5253a39",
   "metadata": {},
   "source": [
    "# Evaluate the model"
   ]
  },
  {
   "cell_type": "code",
   "execution_count": 320,
   "id": "b69bc82e-968a-4fb3-a26c-b8c51208a05d",
   "metadata": {},
   "outputs": [],
   "source": [
    "# Step 5: Make Predictions\n",
    "y_pred = reg.predict(X_test)"
   ]
  },
  {
   "cell_type": "code",
   "execution_count": 322,
   "id": "d5a5a61c-c90c-42ca-965c-ef0984e1f962",
   "metadata": {},
   "outputs": [],
   "source": [
    "from sklearn.metrics import mean_squared_error, mean_absolute_error, r2_score"
   ]
  },
  {
   "cell_type": "code",
   "execution_count": 324,
   "id": "48568bdd-5873-4732-8c01-473993ff559f",
   "metadata": {},
   "outputs": [
    {
     "name": "stdout",
     "output_type": "stream",
     "text": [
      "Mean Squared Error: 0.03\n",
      "Mean Absolute Error: 0.13\n",
      "Root Mean Squared Error: 0.16\n",
      "R^2 Score: -0.06\n"
     ]
    }
   ],
   "source": [
    "# Evaluate the model\n",
    "mse = mean_squared_error(y_test, y_pred)\n",
    "mae = mean_absolute_error(y_test, y_pred)\n",
    "rmse = np.sqrt(mse)\n",
    "r2 = r2_score(y_test, y_pred)\n",
    "\n",
    "print(f\"Mean Squared Error: {mse:.2f}\")\n",
    "print(f\"Mean Absolute Error: {mae:.2f}\")\n",
    "print(f\"Root Mean Squared Error: {rmse:.2f}\")\n",
    "print(f\"R^2 Score: {r2:.2f}\")\n"
   ]
  },
  {
   "cell_type": "markdown",
   "id": "4045316b-2bed-4ba5-a5ef-15e0f0911cf4",
   "metadata": {},
   "source": [
    "# Define the pipeline"
   ]
  },
  {
   "cell_type": "code",
   "execution_count": 326,
   "id": "fdcd3830-f56e-4c92-a509-390af4a05aa3",
   "metadata": {},
   "outputs": [],
   "source": [
    "from sklearn.pipeline import Pipeline\n",
    "from sklearn.compose import ColumnTransformer\n",
    "from sklearn.preprocessing import StandardScaler, OneHotEncoder\n",
    "from sklearn.ensemble import RandomForestClassifier"
   ]
  },
  {
   "cell_type": "code",
   "execution_count": 328,
   "id": "2962834c-b65c-424a-828d-d4e286503dac",
   "metadata": {},
   "outputs": [],
   "source": [
    "# Define preprocessing steps\n",
    "numeric_features = X_class.select_dtypes(include=['int64', 'float64']).columns\n",
    "categorical_features = X_class.select_dtypes(include=['object']).columns\n",
    "\n",
    "# Define the numeric transformer\n",
    "numeric_transformer = Pipeline(steps=[\n",
    "    ('scaler', StandardScaler())\n",
    "])\n",
    "\n",
    "# Define the categorical transformer\n",
    "categorical_transformer = Pipeline(steps=[\n",
    "    ('onehot', OneHotEncoder(handle_unknown='ignore'))\n",
    "])\n",
    "\n",
    "# Combine transformers using ColumnTransformer\n",
    "preprocessor = ColumnTransformer(\n",
    "    transformers=[\n",
    "        ('num', numeric_transformer, numeric_features),\n",
    "        ('cat', categorical_transformer, categorical_features)\n",
    "    ])\n",
    "\n"
   ]
  },
  {
   "cell_type": "code",
   "execution_count": 330,
   "id": "251d1063-db76-4b5c-bd00-ba51e0b824cc",
   "metadata": {},
   "outputs": [],
   "source": [
    "# Define the pipeline\n",
    "pipeline = Pipeline(steps=[\n",
    "    ('preprocessor', preprocessor),\n",
    "    ('sampler', resample(random_state=42)),\n",
    "    ('classifier', RandomForestRegressor(random_state=42))\n",
    "])\n"
   ]
  },
  {
   "cell_type": "code",
   "execution_count": 333,
   "id": "d19ba6cf-18fe-4c13-9928-8131ec6a9e4d",
   "metadata": {},
   "outputs": [
    {
     "data": {
      "text/html": [
       "<style>#sk-container-id-6 {color: black;}#sk-container-id-6 pre{padding: 0;}#sk-container-id-6 div.sk-toggleable {background-color: white;}#sk-container-id-6 label.sk-toggleable__label {cursor: pointer;display: block;width: 100%;margin-bottom: 0;padding: 0.3em;box-sizing: border-box;text-align: center;}#sk-container-id-6 label.sk-toggleable__label-arrow:before {content: \"▸\";float: left;margin-right: 0.25em;color: #696969;}#sk-container-id-6 label.sk-toggleable__label-arrow:hover:before {color: black;}#sk-container-id-6 div.sk-estimator:hover label.sk-toggleable__label-arrow:before {color: black;}#sk-container-id-6 div.sk-toggleable__content {max-height: 0;max-width: 0;overflow: hidden;text-align: left;background-color: #f0f8ff;}#sk-container-id-6 div.sk-toggleable__content pre {margin: 0.2em;color: black;border-radius: 0.25em;background-color: #f0f8ff;}#sk-container-id-6 input.sk-toggleable__control:checked~div.sk-toggleable__content {max-height: 200px;max-width: 100%;overflow: auto;}#sk-container-id-6 input.sk-toggleable__control:checked~label.sk-toggleable__label-arrow:before {content: \"▾\";}#sk-container-id-6 div.sk-estimator input.sk-toggleable__control:checked~label.sk-toggleable__label {background-color: #d4ebff;}#sk-container-id-6 div.sk-label input.sk-toggleable__control:checked~label.sk-toggleable__label {background-color: #d4ebff;}#sk-container-id-6 input.sk-hidden--visually {border: 0;clip: rect(1px 1px 1px 1px);clip: rect(1px, 1px, 1px, 1px);height: 1px;margin: -1px;overflow: hidden;padding: 0;position: absolute;width: 1px;}#sk-container-id-6 div.sk-estimator {font-family: monospace;background-color: #f0f8ff;border: 1px dotted black;border-radius: 0.25em;box-sizing: border-box;margin-bottom: 0.5em;}#sk-container-id-6 div.sk-estimator:hover {background-color: #d4ebff;}#sk-container-id-6 div.sk-parallel-item::after {content: \"\";width: 100%;border-bottom: 1px solid gray;flex-grow: 1;}#sk-container-id-6 div.sk-label:hover label.sk-toggleable__label {background-color: #d4ebff;}#sk-container-id-6 div.sk-serial::before {content: \"\";position: absolute;border-left: 1px solid gray;box-sizing: border-box;top: 0;bottom: 0;left: 50%;z-index: 0;}#sk-container-id-6 div.sk-serial {display: flex;flex-direction: column;align-items: center;background-color: white;padding-right: 0.2em;padding-left: 0.2em;position: relative;}#sk-container-id-6 div.sk-item {position: relative;z-index: 1;}#sk-container-id-6 div.sk-parallel {display: flex;align-items: stretch;justify-content: center;background-color: white;position: relative;}#sk-container-id-6 div.sk-item::before, #sk-container-id-6 div.sk-parallel-item::before {content: \"\";position: absolute;border-left: 1px solid gray;box-sizing: border-box;top: 0;bottom: 0;left: 50%;z-index: -1;}#sk-container-id-6 div.sk-parallel-item {display: flex;flex-direction: column;z-index: 1;position: relative;background-color: white;}#sk-container-id-6 div.sk-parallel-item:first-child::after {align-self: flex-end;width: 50%;}#sk-container-id-6 div.sk-parallel-item:last-child::after {align-self: flex-start;width: 50%;}#sk-container-id-6 div.sk-parallel-item:only-child::after {width: 0;}#sk-container-id-6 div.sk-dashed-wrapped {border: 1px dashed gray;margin: 0 0.4em 0.5em 0.4em;box-sizing: border-box;padding-bottom: 0.4em;background-color: white;}#sk-container-id-6 div.sk-label label {font-family: monospace;font-weight: bold;display: inline-block;line-height: 1.2em;}#sk-container-id-6 div.sk-label-container {text-align: center;}#sk-container-id-6 div.sk-container {/* jupyter's `normalize.less` sets `[hidden] { display: none; }` but bootstrap.min.css set `[hidden] { display: none !important; }` so we also need the `!important` here to be able to override the default hidden behavior on the sphinx rendered scikit-learn.org. See: https://github.com/scikit-learn/scikit-learn/issues/21755 */display: inline-block !important;position: relative;}#sk-container-id-6 div.sk-text-repr-fallback {display: none;}</style><div id=\"sk-container-id-6\" class=\"sk-top-container\"><div class=\"sk-text-repr-fallback\"><pre>Pipeline(steps=[(&#x27;preprocessor&#x27;,\n",
       "                 ColumnTransformer(transformers=[(&#x27;num&#x27;,\n",
       "                                                  Pipeline(steps=[(&#x27;scaler&#x27;,\n",
       "                                                                   StandardScaler())]),\n",
       "                                                  Index([&#x27;feat_esm1b_1&#x27;, &#x27;feat_esm1b_2&#x27;, &#x27;feat_esm1b_3&#x27;, &#x27;feat_esm1b_4&#x27;,\n",
       "       &#x27;feat_esm1b_5&#x27;, &#x27;feat_esm1b_6&#x27;, &#x27;feat_esm1b_7&#x27;, &#x27;feat_esm1b_8&#x27;,\n",
       "       &#x27;feat_esm1b_9&#x27;, &#x27;feat_esm1b_10&#x27;,\n",
       "       ...\n",
       "       &#x27;feat_esm1b_280&#x27;, &#x27;feat_esm1b_281&#x27;, &#x27;feat_esm1b_282&#x27;, &#x27;feat_esm1b_283&#x27;,\n",
       "       &#x27;feat_esm1b_284&#x27;, &#x27;feat_esm1b_285&#x27;, &#x27;feat_esm1b_286&#x27;, &#x27;feat_esm1b_287&#x27;,\n",
       "       &#x27;feat_esm1b_288&#x27;, &#x27;feat_esm1b_289&#x27;],\n",
       "      dtype=&#x27;object&#x27;, length=288)),\n",
       "                                                 (&#x27;cat&#x27;,\n",
       "                                                  Pipeline(steps=[(&#x27;onehot&#x27;,\n",
       "                                                                   OneHotEncoder(handle_unknown=&#x27;ignore&#x27;))]),\n",
       "                                                  Index([], dtype=&#x27;object&#x27;))])),\n",
       "                (&#x27;sampler&#x27;, None),\n",
       "                (&#x27;classifier&#x27;, RandomForestRegressor(random_state=42))])</pre><b>In a Jupyter environment, please rerun this cell to show the HTML representation or trust the notebook. <br />On GitHub, the HTML representation is unable to render, please try loading this page with nbviewer.org.</b></div><div class=\"sk-container\" hidden><div class=\"sk-item sk-dashed-wrapped\"><div class=\"sk-label-container\"><div class=\"sk-label sk-toggleable\"><input class=\"sk-toggleable__control sk-hidden--visually\" id=\"sk-estimator-id-27\" type=\"checkbox\" ><label for=\"sk-estimator-id-27\" class=\"sk-toggleable__label sk-toggleable__label-arrow\">Pipeline</label><div class=\"sk-toggleable__content\"><pre>Pipeline(steps=[(&#x27;preprocessor&#x27;,\n",
       "                 ColumnTransformer(transformers=[(&#x27;num&#x27;,\n",
       "                                                  Pipeline(steps=[(&#x27;scaler&#x27;,\n",
       "                                                                   StandardScaler())]),\n",
       "                                                  Index([&#x27;feat_esm1b_1&#x27;, &#x27;feat_esm1b_2&#x27;, &#x27;feat_esm1b_3&#x27;, &#x27;feat_esm1b_4&#x27;,\n",
       "       &#x27;feat_esm1b_5&#x27;, &#x27;feat_esm1b_6&#x27;, &#x27;feat_esm1b_7&#x27;, &#x27;feat_esm1b_8&#x27;,\n",
       "       &#x27;feat_esm1b_9&#x27;, &#x27;feat_esm1b_10&#x27;,\n",
       "       ...\n",
       "       &#x27;feat_esm1b_280&#x27;, &#x27;feat_esm1b_281&#x27;, &#x27;feat_esm1b_282&#x27;, &#x27;feat_esm1b_283&#x27;,\n",
       "       &#x27;feat_esm1b_284&#x27;, &#x27;feat_esm1b_285&#x27;, &#x27;feat_esm1b_286&#x27;, &#x27;feat_esm1b_287&#x27;,\n",
       "       &#x27;feat_esm1b_288&#x27;, &#x27;feat_esm1b_289&#x27;],\n",
       "      dtype=&#x27;object&#x27;, length=288)),\n",
       "                                                 (&#x27;cat&#x27;,\n",
       "                                                  Pipeline(steps=[(&#x27;onehot&#x27;,\n",
       "                                                                   OneHotEncoder(handle_unknown=&#x27;ignore&#x27;))]),\n",
       "                                                  Index([], dtype=&#x27;object&#x27;))])),\n",
       "                (&#x27;sampler&#x27;, None),\n",
       "                (&#x27;classifier&#x27;, RandomForestRegressor(random_state=42))])</pre></div></div></div><div class=\"sk-serial\"><div class=\"sk-item sk-dashed-wrapped\"><div class=\"sk-label-container\"><div class=\"sk-label sk-toggleable\"><input class=\"sk-toggleable__control sk-hidden--visually\" id=\"sk-estimator-id-28\" type=\"checkbox\" ><label for=\"sk-estimator-id-28\" class=\"sk-toggleable__label sk-toggleable__label-arrow\">preprocessor: ColumnTransformer</label><div class=\"sk-toggleable__content\"><pre>ColumnTransformer(transformers=[(&#x27;num&#x27;,\n",
       "                                 Pipeline(steps=[(&#x27;scaler&#x27;, StandardScaler())]),\n",
       "                                 Index([&#x27;feat_esm1b_1&#x27;, &#x27;feat_esm1b_2&#x27;, &#x27;feat_esm1b_3&#x27;, &#x27;feat_esm1b_4&#x27;,\n",
       "       &#x27;feat_esm1b_5&#x27;, &#x27;feat_esm1b_6&#x27;, &#x27;feat_esm1b_7&#x27;, &#x27;feat_esm1b_8&#x27;,\n",
       "       &#x27;feat_esm1b_9&#x27;, &#x27;feat_esm1b_10&#x27;,\n",
       "       ...\n",
       "       &#x27;feat_esm1b_280&#x27;, &#x27;feat_esm1b_281&#x27;, &#x27;feat_esm1b_282&#x27;, &#x27;feat_esm1b_283&#x27;,\n",
       "       &#x27;feat_esm1b_284&#x27;, &#x27;feat_esm1b_285&#x27;, &#x27;feat_esm1b_286&#x27;, &#x27;feat_esm1b_287&#x27;,\n",
       "       &#x27;feat_esm1b_288&#x27;, &#x27;feat_esm1b_289&#x27;],\n",
       "      dtype=&#x27;object&#x27;, length=288)),\n",
       "                                (&#x27;cat&#x27;,\n",
       "                                 Pipeline(steps=[(&#x27;onehot&#x27;,\n",
       "                                                  OneHotEncoder(handle_unknown=&#x27;ignore&#x27;))]),\n",
       "                                 Index([], dtype=&#x27;object&#x27;))])</pre></div></div></div><div class=\"sk-parallel\"><div class=\"sk-parallel-item\"><div class=\"sk-item\"><div class=\"sk-label-container\"><div class=\"sk-label sk-toggleable\"><input class=\"sk-toggleable__control sk-hidden--visually\" id=\"sk-estimator-id-29\" type=\"checkbox\" ><label for=\"sk-estimator-id-29\" class=\"sk-toggleable__label sk-toggleable__label-arrow\">num</label><div class=\"sk-toggleable__content\"><pre>Index([&#x27;feat_esm1b_1&#x27;, &#x27;feat_esm1b_2&#x27;, &#x27;feat_esm1b_3&#x27;, &#x27;feat_esm1b_4&#x27;,\n",
       "       &#x27;feat_esm1b_5&#x27;, &#x27;feat_esm1b_6&#x27;, &#x27;feat_esm1b_7&#x27;, &#x27;feat_esm1b_8&#x27;,\n",
       "       &#x27;feat_esm1b_9&#x27;, &#x27;feat_esm1b_10&#x27;,\n",
       "       ...\n",
       "       &#x27;feat_esm1b_280&#x27;, &#x27;feat_esm1b_281&#x27;, &#x27;feat_esm1b_282&#x27;, &#x27;feat_esm1b_283&#x27;,\n",
       "       &#x27;feat_esm1b_284&#x27;, &#x27;feat_esm1b_285&#x27;, &#x27;feat_esm1b_286&#x27;, &#x27;feat_esm1b_287&#x27;,\n",
       "       &#x27;feat_esm1b_288&#x27;, &#x27;feat_esm1b_289&#x27;],\n",
       "      dtype=&#x27;object&#x27;, length=288)</pre></div></div></div><div class=\"sk-serial\"><div class=\"sk-item\"><div class=\"sk-serial\"><div class=\"sk-item\"><div class=\"sk-estimator sk-toggleable\"><input class=\"sk-toggleable__control sk-hidden--visually\" id=\"sk-estimator-id-30\" type=\"checkbox\" ><label for=\"sk-estimator-id-30\" class=\"sk-toggleable__label sk-toggleable__label-arrow\">StandardScaler</label><div class=\"sk-toggleable__content\"><pre>StandardScaler()</pre></div></div></div></div></div></div></div></div><div class=\"sk-parallel-item\"><div class=\"sk-item\"><div class=\"sk-label-container\"><div class=\"sk-label sk-toggleable\"><input class=\"sk-toggleable__control sk-hidden--visually\" id=\"sk-estimator-id-31\" type=\"checkbox\" ><label for=\"sk-estimator-id-31\" class=\"sk-toggleable__label sk-toggleable__label-arrow\">cat</label><div class=\"sk-toggleable__content\"><pre>Index([], dtype=&#x27;object&#x27;)</pre></div></div></div><div class=\"sk-serial\"><div class=\"sk-item\"><div class=\"sk-serial\"><div class=\"sk-item\"><div class=\"sk-estimator sk-toggleable\"><input class=\"sk-toggleable__control sk-hidden--visually\" id=\"sk-estimator-id-32\" type=\"checkbox\" ><label for=\"sk-estimator-id-32\" class=\"sk-toggleable__label sk-toggleable__label-arrow\">OneHotEncoder</label><div class=\"sk-toggleable__content\"><pre>OneHotEncoder(handle_unknown=&#x27;ignore&#x27;)</pre></div></div></div></div></div></div></div></div></div></div><div class=\"sk-item\"><div class=\"sk-estimator sk-toggleable\"><input class=\"sk-toggleable__control sk-hidden--visually\" id=\"sk-estimator-id-33\" type=\"checkbox\" ><label for=\"sk-estimator-id-33\" class=\"sk-toggleable__label sk-toggleable__label-arrow\">None</label><div class=\"sk-toggleable__content\"><pre>None</pre></div></div></div><div class=\"sk-item\"><div class=\"sk-estimator sk-toggleable\"><input class=\"sk-toggleable__control sk-hidden--visually\" id=\"sk-estimator-id-34\" type=\"checkbox\" ><label for=\"sk-estimator-id-34\" class=\"sk-toggleable__label sk-toggleable__label-arrow\">RandomForestRegressor</label><div class=\"sk-toggleable__content\"><pre>RandomForestRegressor(random_state=42)</pre></div></div></div></div></div></div></div>"
      ],
      "text/plain": [
       "Pipeline(steps=[('preprocessor',\n",
       "                 ColumnTransformer(transformers=[('num',\n",
       "                                                  Pipeline(steps=[('scaler',\n",
       "                                                                   StandardScaler())]),\n",
       "                                                  Index(['feat_esm1b_1', 'feat_esm1b_2', 'feat_esm1b_3', 'feat_esm1b_4',\n",
       "       'feat_esm1b_5', 'feat_esm1b_6', 'feat_esm1b_7', 'feat_esm1b_8',\n",
       "       'feat_esm1b_9', 'feat_esm1b_10',\n",
       "       ...\n",
       "       'feat_esm1b_280', 'feat_esm1b_281', 'feat_esm1b_282', 'feat_esm1b_283',\n",
       "       'feat_esm1b_284', 'feat_esm1b_285', 'feat_esm1b_286', 'feat_esm1b_287',\n",
       "       'feat_esm1b_288', 'feat_esm1b_289'],\n",
       "      dtype='object', length=288)),\n",
       "                                                 ('cat',\n",
       "                                                  Pipeline(steps=[('onehot',\n",
       "                                                                   OneHotEncoder(handle_unknown='ignore'))]),\n",
       "                                                  Index([], dtype='object'))])),\n",
       "                ('sampler', None),\n",
       "                ('classifier', RandomForestRegressor(random_state=42))])"
      ]
     },
     "execution_count": 333,
     "metadata": {},
     "output_type": "execute_result"
    }
   ],
   "source": [
    "# Fit the pipeline on the training data\n",
    "pipeline.fit(X_train, y_train)\n"
   ]
  },
  {
   "cell_type": "code",
   "execution_count": 199,
   "id": "9896287b-dcaf-4e6b-a022-944be559c79f",
   "metadata": {},
   "outputs": [],
   "source": [
    "# Predict on the test data\n",
    "y_pred = pipeline.predict(X_test)\n"
   ]
  }
 ],
 "metadata": {
  "kernelspec": {
   "display_name": "Python 3 (ipykernel)",
   "language": "python",
   "name": "python3"
  },
  "language_info": {
   "codemirror_mode": {
    "name": "ipython",
    "version": 3
   },
   "file_extension": ".py",
   "mimetype": "text/x-python",
   "name": "python",
   "nbconvert_exporter": "python",
   "pygments_lexer": "ipython3",
   "version": "3.11.5"
  }
 },
 "nbformat": 4,
 "nbformat_minor": 5
}
